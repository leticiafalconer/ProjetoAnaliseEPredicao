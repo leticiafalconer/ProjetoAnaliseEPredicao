{
  "nbformat": 4,
  "nbformat_minor": 0,
  "metadata": {
    "colab": {
      "name": "Projeto_AnáliseEPredição_TA.ipynb",
      "provenance": [],
      "collapsed_sections": []
    },
    "kernelspec": {
      "name": "python3",
      "display_name": "Python 3"
    },
    "language_info": {
      "name": "python"
    }
  },
  "cells": [
    {
      "cell_type": "markdown",
      "metadata": {
        "id": "d1FPM1UWXJxC"
      },
      "source": [
        "# Projetinho 2 TA - Análise, Limpeza e Predição de Dados\n",
        "**Escrito por:** Letícia Agudo Falconer\n",
        "\n",
        "Esse projeto tem como objetivo colocar em prática os conceitos vistos no Turing Academy até o momento, utilizando o dataset apresentado a seguir para predizer se um determinado cientista de dados deseja mudar de emprego ou não.\n"
      ]
    },
    {
      "cell_type": "markdown",
      "metadata": {
        "id": "Ibc8Xe91bLP4"
      },
      "source": [
        "##Importação das Bibliotecas:"
      ]
    },
    {
      "cell_type": "code",
      "metadata": {
        "id": "w513JOdMbTaR"
      },
      "source": [
        "import numpy as np\n",
        "import pandas as pd\n",
        "import matplotlib.pyplot as plt\n",
        "import seaborn as sns\n",
        "\n",
        "%matplotlib inline"
      ],
      "execution_count": 380,
      "outputs": []
    },
    {
      "cell_type": "markdown",
      "metadata": {
        "id": "akCGLmOfZGEe"
      },
      "source": [
        "##Sobre os Datasets:\n"
      ]
    },
    {
      "cell_type": "markdown",
      "metadata": {
        "id": "2mEFI_NWarnj"
      },
      "source": [
        "Serão utilizados dois datasets, um de teste e um de treino, a respeito de candidados para um determinado processo seletivo\n",
        "\n",
        "**Colunas:**\n",
        "* enrollee_id: ID exclusivo para o candidato\n",
        "* city: Código da cidade\n",
        "* city_ development _index: Índice de desenvolvimento da cidade (em escala)\n",
        "* gender: Gênero do candidato\n",
        "* relevent_experience: Experiência relevante do candidato\n",
        "* enrolled_university: Tipo de curso universitário matriculado, se houver\n",
        "* education_level: Nível de educação do candidato\n",
        "* major_discipline: Major principal de educação do candidato\n",
        "  * STEM: Science, Technology, Engineering, and Math Degree\n",
        "  * Business Major: Administração de negócios\n",
        "  * Humanities: Humanidades\n",
        "  * Arts: Artes\n",
        "  * No major: Não faz/possui um major\n",
        "  * Other: Outro\n",
        "* experience: Experiência total do candidato em anos\n",
        "* company_size: Nº de funcionários na empresa do empregador atual\n",
        "* company_type: Tipo de empregador atual\n",
        "* lastnewjob: Diferença em anos entre o emprego anterior e o emprego atual\n",
        "* training_hours: Horas de treinamento concluidas\n",
        "* target: 0 - Não está procurando uma mudança de emprego ou 1 - procurando uma mudança de emprego (essa coluna está presente apenas no dataset de treino)"
      ]
    },
    {
      "cell_type": "markdown",
      "metadata": {
        "id": "5ZKOfJKWa7V1"
      },
      "source": [
        "Vamos importá-los e definir a coluna \"ID\" como index dos datasets, e depois utilizar o .head() e o .info() para entendê-los melhor."
      ]
    },
    {
      "cell_type": "code",
      "metadata": {
        "id": "SZG3ePpEXHF4"
      },
      "source": [
        "treino = pd.read_csv(\"train.csv\")\n",
        "teste = pd.read_csv(\"test.csv\")\n",
        "\n",
        "treino.set_index(\"enrollee_id\", inplace=True)\n",
        "teste.set_index(\"enrollee_id\", inplace=True)"
      ],
      "execution_count": 381,
      "outputs": []
    },
    {
      "cell_type": "code",
      "metadata": {
        "colab": {
          "base_uri": "https://localhost:8080/",
          "height": 301
        },
        "id": "cAssQrg3c6fG",
        "outputId": "2c2324e0-e91e-4754-8878-a7d2f36bf01e"
      },
      "source": [
        "treino.head()"
      ],
      "execution_count": 382,
      "outputs": [
        {
          "output_type": "execute_result",
          "data": {
            "text/html": [
              "\n",
              "  <div id=\"df-4358e816-4920-4924-b451-93f5183b880d\">\n",
              "    <div class=\"colab-df-container\">\n",
              "      <div>\n",
              "<style scoped>\n",
              "    .dataframe tbody tr th:only-of-type {\n",
              "        vertical-align: middle;\n",
              "    }\n",
              "\n",
              "    .dataframe tbody tr th {\n",
              "        vertical-align: top;\n",
              "    }\n",
              "\n",
              "    .dataframe thead th {\n",
              "        text-align: right;\n",
              "    }\n",
              "</style>\n",
              "<table border=\"1\" class=\"dataframe\">\n",
              "  <thead>\n",
              "    <tr style=\"text-align: right;\">\n",
              "      <th></th>\n",
              "      <th>city</th>\n",
              "      <th>city_development_index</th>\n",
              "      <th>gender</th>\n",
              "      <th>relevent_experience</th>\n",
              "      <th>enrolled_university</th>\n",
              "      <th>education_level</th>\n",
              "      <th>major_discipline</th>\n",
              "      <th>experience</th>\n",
              "      <th>company_size</th>\n",
              "      <th>company_type</th>\n",
              "      <th>last_new_job</th>\n",
              "      <th>training_hours</th>\n",
              "      <th>target</th>\n",
              "    </tr>\n",
              "    <tr>\n",
              "      <th>enrollee_id</th>\n",
              "      <th></th>\n",
              "      <th></th>\n",
              "      <th></th>\n",
              "      <th></th>\n",
              "      <th></th>\n",
              "      <th></th>\n",
              "      <th></th>\n",
              "      <th></th>\n",
              "      <th></th>\n",
              "      <th></th>\n",
              "      <th></th>\n",
              "      <th></th>\n",
              "      <th></th>\n",
              "    </tr>\n",
              "  </thead>\n",
              "  <tbody>\n",
              "    <tr>\n",
              "      <th>8949</th>\n",
              "      <td>city_103</td>\n",
              "      <td>0.920</td>\n",
              "      <td>Male</td>\n",
              "      <td>Has relevent experience</td>\n",
              "      <td>no_enrollment</td>\n",
              "      <td>Graduate</td>\n",
              "      <td>STEM</td>\n",
              "      <td>&gt;20</td>\n",
              "      <td>NaN</td>\n",
              "      <td>NaN</td>\n",
              "      <td>1</td>\n",
              "      <td>36</td>\n",
              "      <td>1.0</td>\n",
              "    </tr>\n",
              "    <tr>\n",
              "      <th>29725</th>\n",
              "      <td>city_40</td>\n",
              "      <td>0.776</td>\n",
              "      <td>Male</td>\n",
              "      <td>No relevent experience</td>\n",
              "      <td>no_enrollment</td>\n",
              "      <td>Graduate</td>\n",
              "      <td>STEM</td>\n",
              "      <td>15</td>\n",
              "      <td>50-99</td>\n",
              "      <td>Pvt Ltd</td>\n",
              "      <td>&gt;4</td>\n",
              "      <td>47</td>\n",
              "      <td>0.0</td>\n",
              "    </tr>\n",
              "    <tr>\n",
              "      <th>11561</th>\n",
              "      <td>city_21</td>\n",
              "      <td>0.624</td>\n",
              "      <td>NaN</td>\n",
              "      <td>No relevent experience</td>\n",
              "      <td>Full time course</td>\n",
              "      <td>Graduate</td>\n",
              "      <td>STEM</td>\n",
              "      <td>5</td>\n",
              "      <td>NaN</td>\n",
              "      <td>NaN</td>\n",
              "      <td>never</td>\n",
              "      <td>83</td>\n",
              "      <td>0.0</td>\n",
              "    </tr>\n",
              "    <tr>\n",
              "      <th>33241</th>\n",
              "      <td>city_115</td>\n",
              "      <td>0.789</td>\n",
              "      <td>NaN</td>\n",
              "      <td>No relevent experience</td>\n",
              "      <td>NaN</td>\n",
              "      <td>Graduate</td>\n",
              "      <td>Business Degree</td>\n",
              "      <td>&lt;1</td>\n",
              "      <td>NaN</td>\n",
              "      <td>Pvt Ltd</td>\n",
              "      <td>never</td>\n",
              "      <td>52</td>\n",
              "      <td>1.0</td>\n",
              "    </tr>\n",
              "    <tr>\n",
              "      <th>666</th>\n",
              "      <td>city_162</td>\n",
              "      <td>0.767</td>\n",
              "      <td>Male</td>\n",
              "      <td>Has relevent experience</td>\n",
              "      <td>no_enrollment</td>\n",
              "      <td>Masters</td>\n",
              "      <td>STEM</td>\n",
              "      <td>&gt;20</td>\n",
              "      <td>50-99</td>\n",
              "      <td>Funded Startup</td>\n",
              "      <td>4</td>\n",
              "      <td>8</td>\n",
              "      <td>0.0</td>\n",
              "    </tr>\n",
              "  </tbody>\n",
              "</table>\n",
              "</div>\n",
              "      <button class=\"colab-df-convert\" onclick=\"convertToInteractive('df-4358e816-4920-4924-b451-93f5183b880d')\"\n",
              "              title=\"Convert this dataframe to an interactive table.\"\n",
              "              style=\"display:none;\">\n",
              "        \n",
              "  <svg xmlns=\"http://www.w3.org/2000/svg\" height=\"24px\"viewBox=\"0 0 24 24\"\n",
              "       width=\"24px\">\n",
              "    <path d=\"M0 0h24v24H0V0z\" fill=\"none\"/>\n",
              "    <path d=\"M18.56 5.44l.94 2.06.94-2.06 2.06-.94-2.06-.94-.94-2.06-.94 2.06-2.06.94zm-11 1L8.5 8.5l.94-2.06 2.06-.94-2.06-.94L8.5 2.5l-.94 2.06-2.06.94zm10 10l.94 2.06.94-2.06 2.06-.94-2.06-.94-.94-2.06-.94 2.06-2.06.94z\"/><path d=\"M17.41 7.96l-1.37-1.37c-.4-.4-.92-.59-1.43-.59-.52 0-1.04.2-1.43.59L10.3 9.45l-7.72 7.72c-.78.78-.78 2.05 0 2.83L4 21.41c.39.39.9.59 1.41.59.51 0 1.02-.2 1.41-.59l7.78-7.78 2.81-2.81c.8-.78.8-2.07 0-2.86zM5.41 20L4 18.59l7.72-7.72 1.47 1.35L5.41 20z\"/>\n",
              "  </svg>\n",
              "      </button>\n",
              "      \n",
              "  <style>\n",
              "    .colab-df-container {\n",
              "      display:flex;\n",
              "      flex-wrap:wrap;\n",
              "      gap: 12px;\n",
              "    }\n",
              "\n",
              "    .colab-df-convert {\n",
              "      background-color: #E8F0FE;\n",
              "      border: none;\n",
              "      border-radius: 50%;\n",
              "      cursor: pointer;\n",
              "      display: none;\n",
              "      fill: #1967D2;\n",
              "      height: 32px;\n",
              "      padding: 0 0 0 0;\n",
              "      width: 32px;\n",
              "    }\n",
              "\n",
              "    .colab-df-convert:hover {\n",
              "      background-color: #E2EBFA;\n",
              "      box-shadow: 0px 1px 2px rgba(60, 64, 67, 0.3), 0px 1px 3px 1px rgba(60, 64, 67, 0.15);\n",
              "      fill: #174EA6;\n",
              "    }\n",
              "\n",
              "    [theme=dark] .colab-df-convert {\n",
              "      background-color: #3B4455;\n",
              "      fill: #D2E3FC;\n",
              "    }\n",
              "\n",
              "    [theme=dark] .colab-df-convert:hover {\n",
              "      background-color: #434B5C;\n",
              "      box-shadow: 0px 1px 3px 1px rgba(0, 0, 0, 0.15);\n",
              "      filter: drop-shadow(0px 1px 2px rgba(0, 0, 0, 0.3));\n",
              "      fill: #FFFFFF;\n",
              "    }\n",
              "  </style>\n",
              "\n",
              "      <script>\n",
              "        const buttonEl =\n",
              "          document.querySelector('#df-4358e816-4920-4924-b451-93f5183b880d button.colab-df-convert');\n",
              "        buttonEl.style.display =\n",
              "          google.colab.kernel.accessAllowed ? 'block' : 'none';\n",
              "\n",
              "        async function convertToInteractive(key) {\n",
              "          const element = document.querySelector('#df-4358e816-4920-4924-b451-93f5183b880d');\n",
              "          const dataTable =\n",
              "            await google.colab.kernel.invokeFunction('convertToInteractive',\n",
              "                                                     [key], {});\n",
              "          if (!dataTable) return;\n",
              "\n",
              "          const docLinkHtml = 'Like what you see? Visit the ' +\n",
              "            '<a target=\"_blank\" href=https://colab.research.google.com/notebooks/data_table.ipynb>data table notebook</a>'\n",
              "            + ' to learn more about interactive tables.';\n",
              "          element.innerHTML = '';\n",
              "          dataTable['output_type'] = 'display_data';\n",
              "          await google.colab.output.renderOutput(dataTable, element);\n",
              "          const docLink = document.createElement('div');\n",
              "          docLink.innerHTML = docLinkHtml;\n",
              "          element.appendChild(docLink);\n",
              "        }\n",
              "      </script>\n",
              "    </div>\n",
              "  </div>\n",
              "  "
            ],
            "text/plain": [
              "                 city  city_development_index  ... training_hours target\n",
              "enrollee_id                                    ...                      \n",
              "8949         city_103                   0.920  ...             36    1.0\n",
              "29725         city_40                   0.776  ...             47    0.0\n",
              "11561         city_21                   0.624  ...             83    0.0\n",
              "33241        city_115                   0.789  ...             52    1.0\n",
              "666          city_162                   0.767  ...              8    0.0\n",
              "\n",
              "[5 rows x 13 columns]"
            ]
          },
          "metadata": {},
          "execution_count": 382
        }
      ]
    },
    {
      "cell_type": "code",
      "source": [
        "teste.head()\n"
      ],
      "metadata": {
        "colab": {
          "base_uri": "https://localhost:8080/",
          "height": 301
        },
        "id": "Ka7AVPGIIYon",
        "outputId": "169aa647-7533-4961-8c43-d4f81d768e18"
      },
      "execution_count": 383,
      "outputs": [
        {
          "output_type": "execute_result",
          "data": {
            "text/html": [
              "\n",
              "  <div id=\"df-29407d93-dbec-4f90-a206-4d95da01c8f6\">\n",
              "    <div class=\"colab-df-container\">\n",
              "      <div>\n",
              "<style scoped>\n",
              "    .dataframe tbody tr th:only-of-type {\n",
              "        vertical-align: middle;\n",
              "    }\n",
              "\n",
              "    .dataframe tbody tr th {\n",
              "        vertical-align: top;\n",
              "    }\n",
              "\n",
              "    .dataframe thead th {\n",
              "        text-align: right;\n",
              "    }\n",
              "</style>\n",
              "<table border=\"1\" class=\"dataframe\">\n",
              "  <thead>\n",
              "    <tr style=\"text-align: right;\">\n",
              "      <th></th>\n",
              "      <th>city</th>\n",
              "      <th>city_development_index</th>\n",
              "      <th>gender</th>\n",
              "      <th>relevent_experience</th>\n",
              "      <th>enrolled_university</th>\n",
              "      <th>education_level</th>\n",
              "      <th>major_discipline</th>\n",
              "      <th>experience</th>\n",
              "      <th>company_size</th>\n",
              "      <th>company_type</th>\n",
              "      <th>last_new_job</th>\n",
              "      <th>training_hours</th>\n",
              "    </tr>\n",
              "    <tr>\n",
              "      <th>enrollee_id</th>\n",
              "      <th></th>\n",
              "      <th></th>\n",
              "      <th></th>\n",
              "      <th></th>\n",
              "      <th></th>\n",
              "      <th></th>\n",
              "      <th></th>\n",
              "      <th></th>\n",
              "      <th></th>\n",
              "      <th></th>\n",
              "      <th></th>\n",
              "      <th></th>\n",
              "    </tr>\n",
              "  </thead>\n",
              "  <tbody>\n",
              "    <tr>\n",
              "      <th>32403</th>\n",
              "      <td>city_41</td>\n",
              "      <td>0.827</td>\n",
              "      <td>Male</td>\n",
              "      <td>Has relevent experience</td>\n",
              "      <td>Full time course</td>\n",
              "      <td>Graduate</td>\n",
              "      <td>STEM</td>\n",
              "      <td>9</td>\n",
              "      <td>&lt;10</td>\n",
              "      <td>NaN</td>\n",
              "      <td>1</td>\n",
              "      <td>21</td>\n",
              "    </tr>\n",
              "    <tr>\n",
              "      <th>9858</th>\n",
              "      <td>city_103</td>\n",
              "      <td>0.920</td>\n",
              "      <td>Female</td>\n",
              "      <td>Has relevent experience</td>\n",
              "      <td>no_enrollment</td>\n",
              "      <td>Graduate</td>\n",
              "      <td>STEM</td>\n",
              "      <td>5</td>\n",
              "      <td>NaN</td>\n",
              "      <td>Pvt Ltd</td>\n",
              "      <td>1</td>\n",
              "      <td>98</td>\n",
              "    </tr>\n",
              "    <tr>\n",
              "      <th>31806</th>\n",
              "      <td>city_21</td>\n",
              "      <td>0.624</td>\n",
              "      <td>Male</td>\n",
              "      <td>No relevent experience</td>\n",
              "      <td>no_enrollment</td>\n",
              "      <td>High School</td>\n",
              "      <td>NaN</td>\n",
              "      <td>&lt;1</td>\n",
              "      <td>NaN</td>\n",
              "      <td>Pvt Ltd</td>\n",
              "      <td>never</td>\n",
              "      <td>15</td>\n",
              "    </tr>\n",
              "    <tr>\n",
              "      <th>27385</th>\n",
              "      <td>city_13</td>\n",
              "      <td>0.827</td>\n",
              "      <td>Male</td>\n",
              "      <td>Has relevent experience</td>\n",
              "      <td>no_enrollment</td>\n",
              "      <td>Masters</td>\n",
              "      <td>STEM</td>\n",
              "      <td>11</td>\n",
              "      <td>10/49</td>\n",
              "      <td>Pvt Ltd</td>\n",
              "      <td>1</td>\n",
              "      <td>39</td>\n",
              "    </tr>\n",
              "    <tr>\n",
              "      <th>27724</th>\n",
              "      <td>city_103</td>\n",
              "      <td>0.920</td>\n",
              "      <td>Male</td>\n",
              "      <td>Has relevent experience</td>\n",
              "      <td>no_enrollment</td>\n",
              "      <td>Graduate</td>\n",
              "      <td>STEM</td>\n",
              "      <td>&gt;20</td>\n",
              "      <td>10000+</td>\n",
              "      <td>Pvt Ltd</td>\n",
              "      <td>&gt;4</td>\n",
              "      <td>72</td>\n",
              "    </tr>\n",
              "  </tbody>\n",
              "</table>\n",
              "</div>\n",
              "      <button class=\"colab-df-convert\" onclick=\"convertToInteractive('df-29407d93-dbec-4f90-a206-4d95da01c8f6')\"\n",
              "              title=\"Convert this dataframe to an interactive table.\"\n",
              "              style=\"display:none;\">\n",
              "        \n",
              "  <svg xmlns=\"http://www.w3.org/2000/svg\" height=\"24px\"viewBox=\"0 0 24 24\"\n",
              "       width=\"24px\">\n",
              "    <path d=\"M0 0h24v24H0V0z\" fill=\"none\"/>\n",
              "    <path d=\"M18.56 5.44l.94 2.06.94-2.06 2.06-.94-2.06-.94-.94-2.06-.94 2.06-2.06.94zm-11 1L8.5 8.5l.94-2.06 2.06-.94-2.06-.94L8.5 2.5l-.94 2.06-2.06.94zm10 10l.94 2.06.94-2.06 2.06-.94-2.06-.94-.94-2.06-.94 2.06-2.06.94z\"/><path d=\"M17.41 7.96l-1.37-1.37c-.4-.4-.92-.59-1.43-.59-.52 0-1.04.2-1.43.59L10.3 9.45l-7.72 7.72c-.78.78-.78 2.05 0 2.83L4 21.41c.39.39.9.59 1.41.59.51 0 1.02-.2 1.41-.59l7.78-7.78 2.81-2.81c.8-.78.8-2.07 0-2.86zM5.41 20L4 18.59l7.72-7.72 1.47 1.35L5.41 20z\"/>\n",
              "  </svg>\n",
              "      </button>\n",
              "      \n",
              "  <style>\n",
              "    .colab-df-container {\n",
              "      display:flex;\n",
              "      flex-wrap:wrap;\n",
              "      gap: 12px;\n",
              "    }\n",
              "\n",
              "    .colab-df-convert {\n",
              "      background-color: #E8F0FE;\n",
              "      border: none;\n",
              "      border-radius: 50%;\n",
              "      cursor: pointer;\n",
              "      display: none;\n",
              "      fill: #1967D2;\n",
              "      height: 32px;\n",
              "      padding: 0 0 0 0;\n",
              "      width: 32px;\n",
              "    }\n",
              "\n",
              "    .colab-df-convert:hover {\n",
              "      background-color: #E2EBFA;\n",
              "      box-shadow: 0px 1px 2px rgba(60, 64, 67, 0.3), 0px 1px 3px 1px rgba(60, 64, 67, 0.15);\n",
              "      fill: #174EA6;\n",
              "    }\n",
              "\n",
              "    [theme=dark] .colab-df-convert {\n",
              "      background-color: #3B4455;\n",
              "      fill: #D2E3FC;\n",
              "    }\n",
              "\n",
              "    [theme=dark] .colab-df-convert:hover {\n",
              "      background-color: #434B5C;\n",
              "      box-shadow: 0px 1px 3px 1px rgba(0, 0, 0, 0.15);\n",
              "      filter: drop-shadow(0px 1px 2px rgba(0, 0, 0, 0.3));\n",
              "      fill: #FFFFFF;\n",
              "    }\n",
              "  </style>\n",
              "\n",
              "      <script>\n",
              "        const buttonEl =\n",
              "          document.querySelector('#df-29407d93-dbec-4f90-a206-4d95da01c8f6 button.colab-df-convert');\n",
              "        buttonEl.style.display =\n",
              "          google.colab.kernel.accessAllowed ? 'block' : 'none';\n",
              "\n",
              "        async function convertToInteractive(key) {\n",
              "          const element = document.querySelector('#df-29407d93-dbec-4f90-a206-4d95da01c8f6');\n",
              "          const dataTable =\n",
              "            await google.colab.kernel.invokeFunction('convertToInteractive',\n",
              "                                                     [key], {});\n",
              "          if (!dataTable) return;\n",
              "\n",
              "          const docLinkHtml = 'Like what you see? Visit the ' +\n",
              "            '<a target=\"_blank\" href=https://colab.research.google.com/notebooks/data_table.ipynb>data table notebook</a>'\n",
              "            + ' to learn more about interactive tables.';\n",
              "          element.innerHTML = '';\n",
              "          dataTable['output_type'] = 'display_data';\n",
              "          await google.colab.output.renderOutput(dataTable, element);\n",
              "          const docLink = document.createElement('div');\n",
              "          docLink.innerHTML = docLinkHtml;\n",
              "          element.appendChild(docLink);\n",
              "        }\n",
              "      </script>\n",
              "    </div>\n",
              "  </div>\n",
              "  "
            ],
            "text/plain": [
              "                 city  city_development_index  ... last_new_job training_hours\n",
              "enrollee_id                                    ...                            \n",
              "32403         city_41                   0.827  ...            1             21\n",
              "9858         city_103                   0.920  ...            1             98\n",
              "31806         city_21                   0.624  ...        never             15\n",
              "27385         city_13                   0.827  ...            1             39\n",
              "27724        city_103                   0.920  ...           >4             72\n",
              "\n",
              "[5 rows x 12 columns]"
            ]
          },
          "metadata": {},
          "execution_count": 383
        }
      ]
    },
    {
      "cell_type": "code",
      "metadata": {
        "colab": {
          "base_uri": "https://localhost:8080/"
        },
        "id": "JFDFuc2DdLW5",
        "outputId": "b81f305e-a8c6-4343-a7ea-3ff87e363408"
      },
      "source": [
        "treino.info()"
      ],
      "execution_count": 384,
      "outputs": [
        {
          "output_type": "stream",
          "name": "stdout",
          "text": [
            "<class 'pandas.core.frame.DataFrame'>\n",
            "Int64Index: 19158 entries, 8949 to 23834\n",
            "Data columns (total 13 columns):\n",
            " #   Column                  Non-Null Count  Dtype  \n",
            "---  ------                  --------------  -----  \n",
            " 0   city                    19158 non-null  object \n",
            " 1   city_development_index  19158 non-null  float64\n",
            " 2   gender                  14650 non-null  object \n",
            " 3   relevent_experience     19158 non-null  object \n",
            " 4   enrolled_university     18772 non-null  object \n",
            " 5   education_level         18698 non-null  object \n",
            " 6   major_discipline        16345 non-null  object \n",
            " 7   experience              19093 non-null  object \n",
            " 8   company_size            13220 non-null  object \n",
            " 9   company_type            13018 non-null  object \n",
            " 10  last_new_job            18735 non-null  object \n",
            " 11  training_hours          19158 non-null  int64  \n",
            " 12  target                  19158 non-null  float64\n",
            "dtypes: float64(2), int64(1), object(10)\n",
            "memory usage: 2.0+ MB\n"
          ]
        }
      ]
    },
    {
      "cell_type": "code",
      "source": [
        "teste.info()"
      ],
      "metadata": {
        "colab": {
          "base_uri": "https://localhost:8080/"
        },
        "id": "FHBgKqz_ImKP",
        "outputId": "32a15616-6369-45a5-f547-6d14e02087ec"
      },
      "execution_count": 385,
      "outputs": [
        {
          "output_type": "stream",
          "name": "stdout",
          "text": [
            "<class 'pandas.core.frame.DataFrame'>\n",
            "Int64Index: 2129 entries, 32403 to 12215\n",
            "Data columns (total 12 columns):\n",
            " #   Column                  Non-Null Count  Dtype  \n",
            "---  ------                  --------------  -----  \n",
            " 0   city                    2129 non-null   object \n",
            " 1   city_development_index  2129 non-null   float64\n",
            " 2   gender                  1621 non-null   object \n",
            " 3   relevent_experience     2129 non-null   object \n",
            " 4   enrolled_university     2098 non-null   object \n",
            " 5   education_level         2077 non-null   object \n",
            " 6   major_discipline        1817 non-null   object \n",
            " 7   experience              2124 non-null   object \n",
            " 8   company_size            1507 non-null   object \n",
            " 9   company_type            1495 non-null   object \n",
            " 10  last_new_job            2089 non-null   object \n",
            " 11  training_hours          2129 non-null   int64  \n",
            "dtypes: float64(1), int64(1), object(10)\n",
            "memory usage: 216.2+ KB\n"
          ]
        }
      ]
    },
    {
      "cell_type": "markdown",
      "metadata": {
        "id": "Oo1LJoiCd7Qj"
      },
      "source": [
        "- Ambos os datasets possuem as mesmas colunas, com excessão da \"target\", presente apenas nos dados de treino\n",
        "- Aproximadamente 90% dos nossos dados são de treino\n",
        "- A maioria de nossos dados são categóricos (Dtype = object).\n",
        "- Existem várias categorias com dados faltantes"
      ]
    },
    {
      "cell_type": "markdown",
      "source": [
        "A partir dessa etapa, iremos juntar os dois datasets, para tornar o trabalho mais fácil. Depois da análise e limpeza dos dados, poderemos dividí-los novamente tomando como base a coluna \"target\", que será NaN para os dados de teste"
      ],
      "metadata": {
        "id": "bD7SG0kTKeCJ"
      }
    },
    {
      "cell_type": "code",
      "source": [
        "candidatos = pd.merge(treino, teste, how = 'outer')"
      ],
      "metadata": {
        "id": "B4qGbIiQKyTU"
      },
      "execution_count": 386,
      "outputs": []
    },
    {
      "cell_type": "code",
      "source": [
        "candidatos.info()"
      ],
      "metadata": {
        "colab": {
          "base_uri": "https://localhost:8080/"
        },
        "id": "yXF_fyWoLPfN",
        "outputId": "cfd78a48-f60a-4b28-f1e0-c8896c3db427"
      },
      "execution_count": 387,
      "outputs": [
        {
          "output_type": "stream",
          "name": "stdout",
          "text": [
            "<class 'pandas.core.frame.DataFrame'>\n",
            "Int64Index: 21274 entries, 0 to 21273\n",
            "Data columns (total 13 columns):\n",
            " #   Column                  Non-Null Count  Dtype  \n",
            "---  ------                  --------------  -----  \n",
            " 0   city                    21274 non-null  object \n",
            " 1   city_development_index  21274 non-null  float64\n",
            " 2   gender                  16258 non-null  object \n",
            " 3   relevent_experience     21274 non-null  object \n",
            " 4   enrolled_university     20857 non-null  object \n",
            " 5   education_level         20762 non-null  object \n",
            " 6   major_discipline        18149 non-null  object \n",
            " 7   experience              21204 non-null  object \n",
            " 8   company_size            14719 non-null  object \n",
            " 9   company_type            14505 non-null  object \n",
            " 10  last_new_job            20811 non-null  object \n",
            " 11  training_hours          21274 non-null  int64  \n",
            " 12  target                  19158 non-null  float64\n",
            "dtypes: float64(2), int64(1), object(10)\n",
            "memory usage: 2.3+ MB\n"
          ]
        }
      ]
    },
    {
      "cell_type": "markdown",
      "metadata": {
        "id": "EZa-QlNYfRGw"
      },
      "source": [
        "#Limpeza dos dados"
      ]
    },
    {
      "cell_type": "markdown",
      "metadata": {
        "id": "KH1ikJNQfYCB"
      },
      "source": [
        "##Dados Categóricos"
      ]
    },
    {
      "cell_type": "markdown",
      "metadata": {
        "id": "HaGfCTSlfbuN"
      },
      "source": [
        "Primeiro vamos utilizar o método .describe()."
      ]
    },
    {
      "cell_type": "code",
      "metadata": {
        "colab": {
          "base_uri": "https://localhost:8080/",
          "height": 363
        },
        "id": "q_vcbqamfUE4",
        "outputId": "d7b67e2c-aae9-4a4b-e155-3afb34f9e017"
      },
      "source": [
        "candidatos.describe(include=[\"object\"]).T"
      ],
      "execution_count": 388,
      "outputs": [
        {
          "output_type": "execute_result",
          "data": {
            "text/html": [
              "\n",
              "  <div id=\"df-ff6a058d-e226-4333-839d-a9fbdcdd079d\">\n",
              "    <div class=\"colab-df-container\">\n",
              "      <div>\n",
              "<style scoped>\n",
              "    .dataframe tbody tr th:only-of-type {\n",
              "        vertical-align: middle;\n",
              "    }\n",
              "\n",
              "    .dataframe tbody tr th {\n",
              "        vertical-align: top;\n",
              "    }\n",
              "\n",
              "    .dataframe thead th {\n",
              "        text-align: right;\n",
              "    }\n",
              "</style>\n",
              "<table border=\"1\" class=\"dataframe\">\n",
              "  <thead>\n",
              "    <tr style=\"text-align: right;\">\n",
              "      <th></th>\n",
              "      <th>count</th>\n",
              "      <th>unique</th>\n",
              "      <th>top</th>\n",
              "      <th>freq</th>\n",
              "    </tr>\n",
              "  </thead>\n",
              "  <tbody>\n",
              "    <tr>\n",
              "      <th>city</th>\n",
              "      <td>21274</td>\n",
              "      <td>123</td>\n",
              "      <td>city_103</td>\n",
              "      <td>4819</td>\n",
              "    </tr>\n",
              "    <tr>\n",
              "      <th>gender</th>\n",
              "      <td>16258</td>\n",
              "      <td>3</td>\n",
              "      <td>Male</td>\n",
              "      <td>14669</td>\n",
              "    </tr>\n",
              "    <tr>\n",
              "      <th>relevent_experience</th>\n",
              "      <td>21274</td>\n",
              "      <td>2</td>\n",
              "      <td>Has relevent experience</td>\n",
              "      <td>15304</td>\n",
              "    </tr>\n",
              "    <tr>\n",
              "      <th>enrolled_university</th>\n",
              "      <td>20857</td>\n",
              "      <td>3</td>\n",
              "      <td>no_enrollment</td>\n",
              "      <td>15324</td>\n",
              "    </tr>\n",
              "    <tr>\n",
              "      <th>education_level</th>\n",
              "      <td>20762</td>\n",
              "      <td>5</td>\n",
              "      <td>Graduate</td>\n",
              "      <td>12856</td>\n",
              "    </tr>\n",
              "    <tr>\n",
              "      <th>major_discipline</th>\n",
              "      <td>18149</td>\n",
              "      <td>6</td>\n",
              "      <td>STEM</td>\n",
              "      <td>16100</td>\n",
              "    </tr>\n",
              "    <tr>\n",
              "      <th>experience</th>\n",
              "      <td>21204</td>\n",
              "      <td>22</td>\n",
              "      <td>&gt;20</td>\n",
              "      <td>3660</td>\n",
              "    </tr>\n",
              "    <tr>\n",
              "      <th>company_size</th>\n",
              "      <td>14719</td>\n",
              "      <td>8</td>\n",
              "      <td>50-99</td>\n",
              "      <td>3420</td>\n",
              "    </tr>\n",
              "    <tr>\n",
              "      <th>company_type</th>\n",
              "      <td>14505</td>\n",
              "      <td>6</td>\n",
              "      <td>Pvt Ltd</td>\n",
              "      <td>10950</td>\n",
              "    </tr>\n",
              "    <tr>\n",
              "      <th>last_new_job</th>\n",
              "      <td>20811</td>\n",
              "      <td>6</td>\n",
              "      <td>1</td>\n",
              "      <td>8920</td>\n",
              "    </tr>\n",
              "  </tbody>\n",
              "</table>\n",
              "</div>\n",
              "      <button class=\"colab-df-convert\" onclick=\"convertToInteractive('df-ff6a058d-e226-4333-839d-a9fbdcdd079d')\"\n",
              "              title=\"Convert this dataframe to an interactive table.\"\n",
              "              style=\"display:none;\">\n",
              "        \n",
              "  <svg xmlns=\"http://www.w3.org/2000/svg\" height=\"24px\"viewBox=\"0 0 24 24\"\n",
              "       width=\"24px\">\n",
              "    <path d=\"M0 0h24v24H0V0z\" fill=\"none\"/>\n",
              "    <path d=\"M18.56 5.44l.94 2.06.94-2.06 2.06-.94-2.06-.94-.94-2.06-.94 2.06-2.06.94zm-11 1L8.5 8.5l.94-2.06 2.06-.94-2.06-.94L8.5 2.5l-.94 2.06-2.06.94zm10 10l.94 2.06.94-2.06 2.06-.94-2.06-.94-.94-2.06-.94 2.06-2.06.94z\"/><path d=\"M17.41 7.96l-1.37-1.37c-.4-.4-.92-.59-1.43-.59-.52 0-1.04.2-1.43.59L10.3 9.45l-7.72 7.72c-.78.78-.78 2.05 0 2.83L4 21.41c.39.39.9.59 1.41.59.51 0 1.02-.2 1.41-.59l7.78-7.78 2.81-2.81c.8-.78.8-2.07 0-2.86zM5.41 20L4 18.59l7.72-7.72 1.47 1.35L5.41 20z\"/>\n",
              "  </svg>\n",
              "      </button>\n",
              "      \n",
              "  <style>\n",
              "    .colab-df-container {\n",
              "      display:flex;\n",
              "      flex-wrap:wrap;\n",
              "      gap: 12px;\n",
              "    }\n",
              "\n",
              "    .colab-df-convert {\n",
              "      background-color: #E8F0FE;\n",
              "      border: none;\n",
              "      border-radius: 50%;\n",
              "      cursor: pointer;\n",
              "      display: none;\n",
              "      fill: #1967D2;\n",
              "      height: 32px;\n",
              "      padding: 0 0 0 0;\n",
              "      width: 32px;\n",
              "    }\n",
              "\n",
              "    .colab-df-convert:hover {\n",
              "      background-color: #E2EBFA;\n",
              "      box-shadow: 0px 1px 2px rgba(60, 64, 67, 0.3), 0px 1px 3px 1px rgba(60, 64, 67, 0.15);\n",
              "      fill: #174EA6;\n",
              "    }\n",
              "\n",
              "    [theme=dark] .colab-df-convert {\n",
              "      background-color: #3B4455;\n",
              "      fill: #D2E3FC;\n",
              "    }\n",
              "\n",
              "    [theme=dark] .colab-df-convert:hover {\n",
              "      background-color: #434B5C;\n",
              "      box-shadow: 0px 1px 3px 1px rgba(0, 0, 0, 0.15);\n",
              "      filter: drop-shadow(0px 1px 2px rgba(0, 0, 0, 0.3));\n",
              "      fill: #FFFFFF;\n",
              "    }\n",
              "  </style>\n",
              "\n",
              "      <script>\n",
              "        const buttonEl =\n",
              "          document.querySelector('#df-ff6a058d-e226-4333-839d-a9fbdcdd079d button.colab-df-convert');\n",
              "        buttonEl.style.display =\n",
              "          google.colab.kernel.accessAllowed ? 'block' : 'none';\n",
              "\n",
              "        async function convertToInteractive(key) {\n",
              "          const element = document.querySelector('#df-ff6a058d-e226-4333-839d-a9fbdcdd079d');\n",
              "          const dataTable =\n",
              "            await google.colab.kernel.invokeFunction('convertToInteractive',\n",
              "                                                     [key], {});\n",
              "          if (!dataTable) return;\n",
              "\n",
              "          const docLinkHtml = 'Like what you see? Visit the ' +\n",
              "            '<a target=\"_blank\" href=https://colab.research.google.com/notebooks/data_table.ipynb>data table notebook</a>'\n",
              "            + ' to learn more about interactive tables.';\n",
              "          element.innerHTML = '';\n",
              "          dataTable['output_type'] = 'display_data';\n",
              "          await google.colab.output.renderOutput(dataTable, element);\n",
              "          const docLink = document.createElement('div');\n",
              "          docLink.innerHTML = docLinkHtml;\n",
              "          element.appendChild(docLink);\n",
              "        }\n",
              "      </script>\n",
              "    </div>\n",
              "  </div>\n",
              "  "
            ],
            "text/plain": [
              "                     count unique                      top   freq\n",
              "city                 21274    123                 city_103   4819\n",
              "gender               16258      3                     Male  14669\n",
              "relevent_experience  21274      2  Has relevent experience  15304\n",
              "enrolled_university  20857      3            no_enrollment  15324\n",
              "education_level      20762      5                 Graduate  12856\n",
              "major_discipline     18149      6                     STEM  16100\n",
              "experience           21204     22                      >20   3660\n",
              "company_size         14719      8                    50-99   3420\n",
              "company_type         14505      6                  Pvt Ltd  10950\n",
              "last_new_job         20811      6                        1   8920"
            ]
          },
          "metadata": {},
          "execution_count": 388
        }
      ]
    },
    {
      "cell_type": "markdown",
      "metadata": {
        "id": "dgpDn17_gGk0"
      },
      "source": [
        "A princípio, nada chama muita atenção fora os dados faltantes.\n",
        "\n"
      ]
    },
    {
      "cell_type": "markdown",
      "metadata": {
        "id": "D1VavI-vnfZ8"
      },
      "source": [
        "Observando os diferentes dados de cada categoria, percebe-se que \"company_size\" está um pouco esquisito, e pode ser escrito de uma maneira que se encaixe melhor com o resto do dataset."
      ]
    },
    {
      "cell_type": "code",
      "metadata": {
        "colab": {
          "base_uri": "https://localhost:8080/"
        },
        "id": "yXrDC3xVlwkv",
        "outputId": "c333aadc-9536-47ca-f326-5d83efa38bed"
      },
      "source": [
        "print(candidatos[\"company_size\"].unique())"
      ],
      "execution_count": 389,
      "outputs": [
        {
          "output_type": "stream",
          "name": "stdout",
          "text": [
            "[nan '50-99' '<10' '10000+' '5000-9999' '1000-4999' '10/49' '100-500'\n",
            " '500-999']\n"
          ]
        }
      ]
    },
    {
      "cell_type": "code",
      "source": [
        "# Substituindo \"10/49\" por \"10-49\".\n",
        "candidatos[\"company_size\"].replace(\"10/49\", \"10-49\", inplace=True)\n",
        "\n",
        "# Substituindo \"10000+\" por \">10000\".\n",
        "candidatos[\"company_size\"].replace(\"10000+\", \">10000\", inplace=True)\n",
        "\n",
        "# Olhando novamente os dados.\n",
        "print(candidatos[\"company_size\"].unique())"
      ],
      "metadata": {
        "colab": {
          "base_uri": "https://localhost:8080/"
        },
        "id": "PExixg2QOPe0",
        "outputId": "5693c222-b366-4525-ac93-593339cd45c9"
      },
      "execution_count": 390,
      "outputs": [
        {
          "output_type": "stream",
          "name": "stdout",
          "text": [
            "[nan '50-99' '<10' '>10000' '5000-9999' '1000-4999' '10-49' '100-500'\n",
            " '500-999']\n"
          ]
        }
      ]
    },
    {
      "cell_type": "markdown",
      "metadata": {
        "id": "2Zxb4WemreWY"
      },
      "source": [
        "### Dados Faltantes"
      ]
    },
    {
      "cell_type": "code",
      "source": [
        "candidatos.isnull().sum()"
      ],
      "metadata": {
        "colab": {
          "base_uri": "https://localhost:8080/"
        },
        "id": "mHZ5Ah3LP7Ci",
        "outputId": "5d8b1ba0-d964-4eec-976f-de3477f32b2b"
      },
      "execution_count": 391,
      "outputs": [
        {
          "output_type": "execute_result",
          "data": {
            "text/plain": [
              "city                         0\n",
              "city_development_index       0\n",
              "gender                    5016\n",
              "relevent_experience          0\n",
              "enrolled_university        417\n",
              "education_level            512\n",
              "major_discipline          3125\n",
              "experience                  70\n",
              "company_size              6555\n",
              "company_type              6769\n",
              "last_new_job               463\n",
              "training_hours               0\n",
              "target                    2116\n",
              "dtype: int64"
            ]
          },
          "metadata": {},
          "execution_count": 391
        }
      ]
    },
    {
      "cell_type": "markdown",
      "source": [
        "- gender e company_type: vamos substituir os NaN pela categoria \"Other\", já que ela já existe"
      ],
      "metadata": {
        "id": "exrASnxETU6J"
      }
    },
    {
      "cell_type": "code",
      "metadata": {
        "colab": {
          "base_uri": "https://localhost:8080/"
        },
        "id": "QUAL-VWkmY-l",
        "outputId": "725ee842-92f2-4c72-ec34-fa44998a5566"
      },
      "source": [
        "print(candidatos[\"gender\"].unique())"
      ],
      "execution_count": 392,
      "outputs": [
        {
          "output_type": "stream",
          "name": "stdout",
          "text": [
            "['Male' nan 'Female' 'Other']\n"
          ]
        }
      ]
    },
    {
      "cell_type": "code",
      "source": [
        "print(candidatos[\"company_type\"].unique())"
      ],
      "metadata": {
        "colab": {
          "base_uri": "https://localhost:8080/"
        },
        "id": "fJZKdhx0VAA3",
        "outputId": "c206468d-8db9-4e72-a24e-ccb039eaf7aa"
      },
      "execution_count": 393,
      "outputs": [
        {
          "output_type": "stream",
          "name": "stdout",
          "text": [
            "[nan 'Pvt Ltd' 'Funded Startup' 'Early Stage Startup' 'Other'\n",
            " 'Public Sector' 'NGO']\n"
          ]
        }
      ]
    },
    {
      "cell_type": "code",
      "source": [
        "candidatos[\"gender\"].replace(np.nan, \"Other\", inplace = True)\n",
        "candidatos[\"company_type\"].replace(np.nan, \"Other\", inplace = True)"
      ],
      "metadata": {
        "id": "yHT1lLkeTw8M"
      },
      "execution_count": 394,
      "outputs": []
    },
    {
      "cell_type": "markdown",
      "source": [
        "- experience: vamos deletar os NaN, já que são poucos dados"
      ],
      "metadata": {
        "id": "E2Gtu0U3Vivk"
      }
    },
    {
      "cell_type": "code",
      "source": [
        "print(candidatos[\"experience\"].unique())"
      ],
      "metadata": {
        "colab": {
          "base_uri": "https://localhost:8080/"
        },
        "id": "_iR85Nl1Xgld",
        "outputId": "6a10eb6c-c60b-4630-bd14-408e01f67fe3"
      },
      "execution_count": 395,
      "outputs": [
        {
          "output_type": "stream",
          "name": "stdout",
          "text": [
            "['>20' '15' '5' '<1' '11' '13' '7' '17' '2' '16' '1' '4' '10' '14' '18'\n",
            " '19' '12' '3' '6' '9' '8' '20' nan]\n"
          ]
        }
      ]
    },
    {
      "cell_type": "code",
      "source": [
        "deletar = candidatos[candidatos[\"experience\"].isnull()].index\n",
        "candidatos.drop(deletar, inplace=True)"
      ],
      "metadata": {
        "id": "om4F6lBsVqhb"
      },
      "execution_count": 396,
      "outputs": []
    },
    {
      "cell_type": "markdown",
      "source": [
        "- Para as demais categorias, vamos substituir os dados faltantes pela moda"
      ],
      "metadata": {
        "id": "7M2gteg7Xx-X"
      }
    },
    {
      "cell_type": "code",
      "source": [
        "candidatos[\"enrolled_university\"].fillna(candidatos[\"enrolled_university\"].mode()[0], inplace=True)\n",
        "candidatos[\"education_level\"].fillna(candidatos[\"education_level\"].mode()[0], inplace=True)\n",
        "candidatos[\"major_discipline\"].fillna(candidatos[\"major_discipline\"].mode()[0], inplace=True)\n",
        "candidatos[\"company_size\"].fillna(candidatos[\"company_size\"].mode()[0], inplace=True)\n",
        "candidatos[\"last_new_job\"].fillna(candidatos[\"last_new_job\"].mode()[0], inplace=True)"
      ],
      "metadata": {
        "id": "wbtnOuFAYVph"
      },
      "execution_count": 397,
      "outputs": []
    },
    {
      "cell_type": "markdown",
      "source": [
        "Checando os dados novamente:"
      ],
      "metadata": {
        "id": "ExJEcfasZNMB"
      }
    },
    {
      "cell_type": "code",
      "source": [
        "candidatos.isnull().sum()"
      ],
      "metadata": {
        "colab": {
          "base_uri": "https://localhost:8080/"
        },
        "id": "3PWAeHK2ZPZ2",
        "outputId": "bec93079-11ea-4a0e-efbe-b9ea842d6e10"
      },
      "execution_count": 398,
      "outputs": [
        {
          "output_type": "execute_result",
          "data": {
            "text/plain": [
              "city                         0\n",
              "city_development_index       0\n",
              "gender                       0\n",
              "relevent_experience          0\n",
              "enrolled_university          0\n",
              "education_level              0\n",
              "major_discipline             0\n",
              "experience                   0\n",
              "company_size                 0\n",
              "company_type                 0\n",
              "last_new_job                 0\n",
              "training_hours               0\n",
              "target                    2111\n",
              "dtype: int64"
            ]
          },
          "metadata": {},
          "execution_count": 398
        }
      ]
    },
    {
      "cell_type": "markdown",
      "source": [
        "##Dados Numéricos"
      ],
      "metadata": {
        "id": "O4fjDjk2ZkMO"
      }
    },
    {
      "cell_type": "markdown",
      "metadata": {
        "id": "x4-WYAasi-Y6"
      },
      "source": [
        "O método describe() nos dá uma visão geral, e olhando para os valores de mínimo e máximo de cada dado, já podemos tirar algumas conclusões."
      ]
    },
    {
      "cell_type": "code",
      "metadata": {
        "colab": {
          "base_uri": "https://localhost:8080/",
          "height": 300
        },
        "id": "mFZg1aOJaYBV",
        "outputId": "bf297f57-58cd-47b9-a85e-993d6959bbcb"
      },
      "source": [
        "candidatos.describe()"
      ],
      "execution_count": 399,
      "outputs": [
        {
          "output_type": "execute_result",
          "data": {
            "text/html": [
              "\n",
              "  <div id=\"df-10803210-8441-4aa5-8c69-1ad58b30d775\">\n",
              "    <div class=\"colab-df-container\">\n",
              "      <div>\n",
              "<style scoped>\n",
              "    .dataframe tbody tr th:only-of-type {\n",
              "        vertical-align: middle;\n",
              "    }\n",
              "\n",
              "    .dataframe tbody tr th {\n",
              "        vertical-align: top;\n",
              "    }\n",
              "\n",
              "    .dataframe thead th {\n",
              "        text-align: right;\n",
              "    }\n",
              "</style>\n",
              "<table border=\"1\" class=\"dataframe\">\n",
              "  <thead>\n",
              "    <tr style=\"text-align: right;\">\n",
              "      <th></th>\n",
              "      <th>city_development_index</th>\n",
              "      <th>training_hours</th>\n",
              "      <th>target</th>\n",
              "    </tr>\n",
              "  </thead>\n",
              "  <tbody>\n",
              "    <tr>\n",
              "      <th>count</th>\n",
              "      <td>21204.000000</td>\n",
              "      <td>21204.000000</td>\n",
              "      <td>19093.000000</td>\n",
              "    </tr>\n",
              "    <tr>\n",
              "      <th>mean</th>\n",
              "      <td>0.828590</td>\n",
              "      <td>65.328193</td>\n",
              "      <td>0.248992</td>\n",
              "    </tr>\n",
              "    <tr>\n",
              "      <th>std</th>\n",
              "      <td>0.123467</td>\n",
              "      <td>60.082869</td>\n",
              "      <td>0.432440</td>\n",
              "    </tr>\n",
              "    <tr>\n",
              "      <th>min</th>\n",
              "      <td>0.448000</td>\n",
              "      <td>1.000000</td>\n",
              "      <td>0.000000</td>\n",
              "    </tr>\n",
              "    <tr>\n",
              "      <th>25%</th>\n",
              "      <td>0.740000</td>\n",
              "      <td>23.000000</td>\n",
              "      <td>0.000000</td>\n",
              "    </tr>\n",
              "    <tr>\n",
              "      <th>50%</th>\n",
              "      <td>0.903000</td>\n",
              "      <td>47.000000</td>\n",
              "      <td>0.000000</td>\n",
              "    </tr>\n",
              "    <tr>\n",
              "      <th>75%</th>\n",
              "      <td>0.920000</td>\n",
              "      <td>88.000000</td>\n",
              "      <td>0.000000</td>\n",
              "    </tr>\n",
              "    <tr>\n",
              "      <th>max</th>\n",
              "      <td>0.949000</td>\n",
              "      <td>336.000000</td>\n",
              "      <td>1.000000</td>\n",
              "    </tr>\n",
              "  </tbody>\n",
              "</table>\n",
              "</div>\n",
              "      <button class=\"colab-df-convert\" onclick=\"convertToInteractive('df-10803210-8441-4aa5-8c69-1ad58b30d775')\"\n",
              "              title=\"Convert this dataframe to an interactive table.\"\n",
              "              style=\"display:none;\">\n",
              "        \n",
              "  <svg xmlns=\"http://www.w3.org/2000/svg\" height=\"24px\"viewBox=\"0 0 24 24\"\n",
              "       width=\"24px\">\n",
              "    <path d=\"M0 0h24v24H0V0z\" fill=\"none\"/>\n",
              "    <path d=\"M18.56 5.44l.94 2.06.94-2.06 2.06-.94-2.06-.94-.94-2.06-.94 2.06-2.06.94zm-11 1L8.5 8.5l.94-2.06 2.06-.94-2.06-.94L8.5 2.5l-.94 2.06-2.06.94zm10 10l.94 2.06.94-2.06 2.06-.94-2.06-.94-.94-2.06-.94 2.06-2.06.94z\"/><path d=\"M17.41 7.96l-1.37-1.37c-.4-.4-.92-.59-1.43-.59-.52 0-1.04.2-1.43.59L10.3 9.45l-7.72 7.72c-.78.78-.78 2.05 0 2.83L4 21.41c.39.39.9.59 1.41.59.51 0 1.02-.2 1.41-.59l7.78-7.78 2.81-2.81c.8-.78.8-2.07 0-2.86zM5.41 20L4 18.59l7.72-7.72 1.47 1.35L5.41 20z\"/>\n",
              "  </svg>\n",
              "      </button>\n",
              "      \n",
              "  <style>\n",
              "    .colab-df-container {\n",
              "      display:flex;\n",
              "      flex-wrap:wrap;\n",
              "      gap: 12px;\n",
              "    }\n",
              "\n",
              "    .colab-df-convert {\n",
              "      background-color: #E8F0FE;\n",
              "      border: none;\n",
              "      border-radius: 50%;\n",
              "      cursor: pointer;\n",
              "      display: none;\n",
              "      fill: #1967D2;\n",
              "      height: 32px;\n",
              "      padding: 0 0 0 0;\n",
              "      width: 32px;\n",
              "    }\n",
              "\n",
              "    .colab-df-convert:hover {\n",
              "      background-color: #E2EBFA;\n",
              "      box-shadow: 0px 1px 2px rgba(60, 64, 67, 0.3), 0px 1px 3px 1px rgba(60, 64, 67, 0.15);\n",
              "      fill: #174EA6;\n",
              "    }\n",
              "\n",
              "    [theme=dark] .colab-df-convert {\n",
              "      background-color: #3B4455;\n",
              "      fill: #D2E3FC;\n",
              "    }\n",
              "\n",
              "    [theme=dark] .colab-df-convert:hover {\n",
              "      background-color: #434B5C;\n",
              "      box-shadow: 0px 1px 3px 1px rgba(0, 0, 0, 0.15);\n",
              "      filter: drop-shadow(0px 1px 2px rgba(0, 0, 0, 0.3));\n",
              "      fill: #FFFFFF;\n",
              "    }\n",
              "  </style>\n",
              "\n",
              "      <script>\n",
              "        const buttonEl =\n",
              "          document.querySelector('#df-10803210-8441-4aa5-8c69-1ad58b30d775 button.colab-df-convert');\n",
              "        buttonEl.style.display =\n",
              "          google.colab.kernel.accessAllowed ? 'block' : 'none';\n",
              "\n",
              "        async function convertToInteractive(key) {\n",
              "          const element = document.querySelector('#df-10803210-8441-4aa5-8c69-1ad58b30d775');\n",
              "          const dataTable =\n",
              "            await google.colab.kernel.invokeFunction('convertToInteractive',\n",
              "                                                     [key], {});\n",
              "          if (!dataTable) return;\n",
              "\n",
              "          const docLinkHtml = 'Like what you see? Visit the ' +\n",
              "            '<a target=\"_blank\" href=https://colab.research.google.com/notebooks/data_table.ipynb>data table notebook</a>'\n",
              "            + ' to learn more about interactive tables.';\n",
              "          element.innerHTML = '';\n",
              "          dataTable['output_type'] = 'display_data';\n",
              "          await google.colab.output.renderOutput(dataTable, element);\n",
              "          const docLink = document.createElement('div');\n",
              "          docLink.innerHTML = docLinkHtml;\n",
              "          element.appendChild(docLink);\n",
              "        }\n",
              "      </script>\n",
              "    </div>\n",
              "  </div>\n",
              "  "
            ],
            "text/plain": [
              "       city_development_index  training_hours        target\n",
              "count            21204.000000    21204.000000  19093.000000\n",
              "mean                 0.828590       65.328193      0.248992\n",
              "std                  0.123467       60.082869      0.432440\n",
              "min                  0.448000        1.000000      0.000000\n",
              "25%                  0.740000       23.000000      0.000000\n",
              "50%                  0.903000       47.000000      0.000000\n",
              "75%                  0.920000       88.000000      0.000000\n",
              "max                  0.949000      336.000000      1.000000"
            ]
          },
          "metadata": {},
          "execution_count": 399
        }
      ]
    },
    {
      "cell_type": "markdown",
      "source": [
        "Nada parece estar fora do lugar, e não existem dados faltantes"
      ],
      "metadata": {
        "id": "W2uHTSliZ5oP"
      }
    },
    {
      "cell_type": "markdown",
      "source": [
        "#Análise de Dados\n"
      ],
      "metadata": {
        "id": "0Vm9zp9sadDr"
      }
    },
    {
      "cell_type": "markdown",
      "source": [
        "Vamos fazer uma análise para entender melhor os nossos dados e como eles se relacionam com a coluna de target, checando categorias que não parecem ser correlatas para assim não utilizá-las na nossa predição"
      ],
      "metadata": {
        "id": "Kz4E5JGztR4q"
      }
    },
    {
      "cell_type": "markdown",
      "source": [
        "A partir desta etapa, vamos dividir nosso dataset em treino e teste novamente, e analisar com base nos dados de treino."
      ],
      "metadata": {
        "id": "MdyGl1l3xcIv"
      }
    },
    {
      "cell_type": "code",
      "source": [
        "teste = candidatos[candidatos[\"target\"].isnull()]\n",
        "treino = candidatos[candidatos[\"target\"].isnull() == False]\n",
        "treino.info()"
      ],
      "metadata": {
        "colab": {
          "base_uri": "https://localhost:8080/"
        },
        "id": "_a5ovqOuxrCQ",
        "outputId": "64eeff64-33ec-4b31-e551-1f3495525105"
      },
      "execution_count": 400,
      "outputs": [
        {
          "output_type": "stream",
          "name": "stdout",
          "text": [
            "<class 'pandas.core.frame.DataFrame'>\n",
            "Int64Index: 19093 entries, 0 to 19157\n",
            "Data columns (total 13 columns):\n",
            " #   Column                  Non-Null Count  Dtype  \n",
            "---  ------                  --------------  -----  \n",
            " 0   city                    19093 non-null  object \n",
            " 1   city_development_index  19093 non-null  float64\n",
            " 2   gender                  19093 non-null  object \n",
            " 3   relevent_experience     19093 non-null  object \n",
            " 4   enrolled_university     19093 non-null  object \n",
            " 5   education_level         19093 non-null  object \n",
            " 6   major_discipline        19093 non-null  object \n",
            " 7   experience              19093 non-null  object \n",
            " 8   company_size            19093 non-null  object \n",
            " 9   company_type            19093 non-null  object \n",
            " 10  last_new_job            19093 non-null  object \n",
            " 11  training_hours          19093 non-null  int64  \n",
            " 12  target                  19093 non-null  float64\n",
            "dtypes: float64(2), int64(1), object(10)\n",
            "memory usage: 2.0+ MB\n"
          ]
        }
      ]
    },
    {
      "cell_type": "markdown",
      "source": [
        "**Variáveis Numéricas:**"
      ],
      "metadata": {
        "id": "dpuRDkcAWEw6"
      }
    },
    {
      "cell_type": "code",
      "source": [
        "plt.figure(figsize=(15,10))\n",
        "sns.heatmap(treino.corr(), annot=True, vmin=-1, vmax=1, cmap=\"RdBu\")\n",
        "plt.show()"
      ],
      "metadata": {
        "colab": {
          "base_uri": "https://localhost:8080/",
          "height": 595
        },
        "id": "THzlgDZ8WRrZ",
        "outputId": "336e85bf-9bf0-4387-b457-fbdc4e1ed926"
      },
      "execution_count": 401,
      "outputs": [
        {
          "output_type": "display_data",
          "data": {
            "image/png": "[encoded data removed]",
            "text/plain": [
              "<Figure size 1080x720 with 2 Axes>"
            ]
          },
          "metadata": {
            "needs_background": "light"
          }
        }
      ]
    },
    {
      "cell_type": "markdown",
      "source": [
        "A categoria \"training_hours\" possui uma correlação com o target muito próxima de 0, podendo ser desconsiderada no nosso modelo de predição."
      ],
      "metadata": {
        "id": "jQAiIGhwWr7z"
      }
    },
    {
      "cell_type": "markdown",
      "source": [
        "**Gênero:**\n"
      ],
      "metadata": {
        "id": "Z53pWN01TYUD"
      }
    },
    {
      "cell_type": "code",
      "metadata": {
        "colab": {
          "base_uri": "https://localhost:8080/",
          "height": 354
        },
        "id": "amtCzH4JloOe",
        "outputId": "b99b525e-f5c4-4417-b6d3-70d3b703b93f"
      },
      "source": [
        "plt.figure(figsize=(10,5))\n",
        "sns.countplot(x = 'gender', hue=\"target\", data = treino, \n",
        "              palette={0: \"#98caa3\", 1: \"#c84557\"}) \n",
        "plt.xlabel(\"Sexo\")\n",
        "plt.ylabel(\"Contagem\")\n",
        "plt.title(\"Candidatos por gênero\", fontsize=18)\n",
        "plt.legend(labels=['Não quer mudar de emprego', 'Quer mudar de emprego'])\n",
        "plt.show()"
      ],
      "execution_count": 402,
      "outputs": [
        {
          "output_type": "display_data",
          "data": {
            "image/png": "[encoded data removed]",
            "text/plain": [
              "<Figure size 720x360 with 1 Axes>"
            ]
          },
          "metadata": {
            "needs_background": "light"
          }
        }
      ]
    },
    {
      "cell_type": "markdown",
      "metadata": {
        "id": "ris55IxWoRF0"
      },
      "source": [
        "É possível percebermos claramente a maior quantidade pessoas do gênero masculino e a minoria extrema do gênero feminino participando do processo seletivo. Também percebemos a grande quantidade na categoria \"Other\", já que foi assim que classificamos os dados faltantes. E por fim, o gênero masculino parece querer uma mudança de emprego em uma maior proporção que os outros dois."
      ]
    },
    {
      "cell_type": "markdown",
      "source": [
        "**Nível de educação:**"
      ],
      "metadata": {
        "id": "lrmf7LIZurq1"
      }
    },
    {
      "cell_type": "code",
      "metadata": {
        "colab": {
          "base_uri": "https://localhost:8080/",
          "height": 516
        },
        "id": "zi3YvCsbYo2c",
        "outputId": "941a8ccd-4a41-4e19-8683-df5c2461af52"
      },
      "source": [
        "ordem = [\"Primary School\", \"High School\", \"Graduate\", \"Masters\", \"Phd\"]\n",
        "plt.figure(figsize=(15,8))\n",
        "sns.countplot(y = 'education_level', hue=\"target\", order=ordem, data = candidatos, \n",
        "              palette={0: \"#98caa3\", 1: \"#c84557\"}) \n",
        "plt.xlabel(\"Educação\")\n",
        "plt.ylabel(\"Contagem\")\n",
        "plt.title(\"Nível de educação\", fontsize=18)\n",
        "plt.legend(labels=['Não quer mudar de emprego', 'Quer mudar de emprego'])\n",
        "plt.show()"
      ],
      "execution_count": 403,
      "outputs": [
        {
          "output_type": "display_data",
          "data": {
            "image/png": "[encoded data removed]",
            "text/plain": [
              "<Figure size 1080x576 with 1 Axes>"
            ]
          },
          "metadata": {
            "needs_background": "light"
          }
        }
      ]
    },
    {
      "cell_type": "markdown",
      "metadata": {
        "id": "0_wR9kL3ojKR"
      },
      "source": [
        "Esta também não parece possuir correlação muito forte com a target, já que todas as categorias possuem distribuições similares, mas não podemos descartá-la."
      ]
    },
    {
      "cell_type": "markdown",
      "source": [
        "**Experiência relevante:**"
      ],
      "metadata": {
        "id": "5Y_VfQTjXRNK"
      }
    },
    {
      "cell_type": "code",
      "source": [
        "plt.figure(figsize=(18,5))\n",
        "sns.countplot(x = 'relevent_experience', hue=\"target\", data = candidatos, \n",
        "              palette={0: \"#98caa3\", 1: \"#c84557\"}) \n",
        "plt.xlabel(\"Experiência\")\n",
        "plt.ylabel(\"Contagem\")\n",
        "plt.title(\"Experiência relevante\", fontsize=18)\n",
        "plt.legend(labels=['Não quer mudar de emprego', 'Quer mudar de emprego'])\n",
        "plt.show()"
      ],
      "metadata": {
        "colab": {
          "base_uri": "https://localhost:8080/",
          "height": 354
        },
        "id": "LED7K92uXZzX",
        "outputId": "6410c1d9-80fa-417c-9912-aa5ca387e42d"
      },
      "execution_count": 404,
      "outputs": [
        {
          "output_type": "display_data",
          "data": {
            "image/png": "[encoded data removed]",
            "text/plain": [
              "<Figure size 1296x360 with 1 Axes>"
            ]
          },
          "metadata": {
            "needs_background": "light"
          }
        }
      ]
    },
    {
      "cell_type": "markdown",
      "source": [
        "Uma proporção maior dos candidatos que possuem experiência relevante parecem desejar a mudança de emprego."
      ],
      "metadata": {
        "id": "1Tpb3iI4cw0f"
      }
    },
    {
      "cell_type": "markdown",
      "source": [
        "**Experiência total:**"
      ],
      "metadata": {
        "id": "VFfLjBohwycn"
      }
    },
    {
      "cell_type": "code",
      "source": [
        "ordem = ['<1', '1', '2', '3', '4', '5', '6', '7', '8', '9', '10', '11', '12', '13', '14', '15', '16', '17', '18',\n",
        " '19', '20', '>20']\n",
        " \n",
        "plt.figure(figsize=(18,5))\n",
        "sns.countplot(x = 'experience', hue=\"target\", data = treino, order = ordem,\n",
        "              palette={0: \"#98caa3\", 1: \"#c84557\"}) \n",
        "plt.xlabel(\"Experiência total\")\n",
        "plt.ylabel(\"Contagem\")\n",
        "plt.title(\"Experiência total\", fontsize=18)\n",
        "plt.legend(labels=['Não quer mudar de emprego', 'Quer mudar de emprego'])\n",
        "plt.show()"
      ],
      "metadata": {
        "colab": {
          "base_uri": "https://localhost:8080/",
          "height": 354
        },
        "id": "Rej6K5Z7y74c",
        "outputId": "b77e5754-511a-499e-fd44-77382ef0fd7e"
      },
      "execution_count": 405,
      "outputs": [
        {
          "output_type": "display_data",
          "data": {
            "image/png": "[encoded data removed]",
            "text/plain": [
              "<Figure size 1296x360 with 1 Axes>"
            ]
          },
          "metadata": {
            "needs_background": "light"
          }
        }
      ]
    },
    {
      "cell_type": "markdown",
      "source": [
        "Quanto mais experiente o candidato, menor parece ser a taxa de desejo de mudança de emprego"
      ],
      "metadata": {
        "id": "btImqgkcdC43"
      }
    },
    {
      "cell_type": "code",
      "source": [
        "ordem = [\"never\", \"1\", \"2\", \"3\", \"4\", \">4\"]\n",
        "plt.figure(figsize=(18,5))\n",
        "sns.countplot(x = 'last_new_job', hue=\"target\", data = treino, order = ordem,\n",
        "              palette={0: \"#98caa3\", 1: \"#c84557\"}) \n",
        "plt.xlabel(\"Último emprego'\")\n",
        "plt.ylabel(\"Contagem\")\n",
        "plt.title(\"Última mudança de emprego\", fontsize=18)\n",
        "plt.legend(labels=['Não quer mudar de emprego', 'Quer mudar de emprego'])\n",
        "plt.show()"
      ],
      "metadata": {
        "colab": {
          "base_uri": "https://localhost:8080/",
          "height": 358
        },
        "id": "GodZ16jm5iqn",
        "outputId": "821bfbac-2bf2-4357-b9cf-9e938e0a89a2"
      },
      "execution_count": 406,
      "outputs": [
        {
          "output_type": "display_data",
          "data": {
            "image/png": "[encoded data removed]",
            "text/plain": [
              "<Figure size 1296x360 with 1 Axes>"
            ]
          },
          "metadata": {
            "needs_background": "light"
          }
        }
      ]
    },
    {
      "cell_type": "markdown",
      "source": [
        "Essa categoria não parece possuir correlação forte com a coluna target, mas também não podemos descartá-la."
      ],
      "metadata": {
        "id": "k3rTtlDLdfnV"
      }
    },
    {
      "cell_type": "code",
      "metadata": {
        "colab": {
          "base_uri": "https://localhost:8080/",
          "height": 354
        },
        "id": "uO9sFpwyx1GK",
        "outputId": "dc2f8160-0297-48ca-a3e8-7b3bfc7943d4"
      },
      "source": [
        "plt.figure(figsize=(18,5))\n",
        "sns.countplot(x = 'company_type', hue=\"target\", data = treino,\n",
        "              palette={0: \"#98caa3\", 1: \"#c84557\"}) \n",
        "plt.xlabel(\"Experiência total\")\n",
        "plt.ylabel(\"Contagem\")\n",
        "plt.title(\"Experiência total\", fontsize=18)\n",
        "plt.legend(labels=['Não quer mudar de emprego', 'Quer mudar de emprego'])\n",
        "plt.show()"
      ],
      "execution_count": 407,
      "outputs": [
        {
          "output_type": "display_data",
          "data": {
            "image/png": "[encoded data removed]",
            "text/plain": [
              "<Figure size 1296x360 with 1 Axes>"
            ]
          },
          "metadata": {
            "needs_background": "light"
          }
        }
      ]
    },
    {
      "cell_type": "markdown",
      "source": [
        "Companhias do tipo \"Pvt Ltd\" possuem uma taxa menor de candidatos que desejam a mudança de emprego, enquanto na categoria \"Other\" essa taxa é bem maior."
      ],
      "metadata": {
        "id": "_0ft8PfRd0X7"
      }
    },
    {
      "cell_type": "code",
      "source": [
        "plt.figure(figsize=(15,5))\n",
        "sns.countplot(y = 'major_discipline', hue=\"target\", data = treino,\n",
        "              palette={0: \"#98caa3\", 1: \"#c84557\"}) \n",
        "plt.xlabel(\"Experiência total\")\n",
        "plt.ylabel(\"Contagem\")\n",
        "plt.title(\"Experiência total\", fontsize=18)\n",
        "plt.legend(labels=['Não quer mudar de emprego', 'Quer mudar de emprego'])\n",
        "plt.show()"
      ],
      "metadata": {
        "colab": {
          "base_uri": "https://localhost:8080/",
          "height": 354
        },
        "id": "Wis4dH71eGlZ",
        "outputId": "c6ff66ff-7387-4838-a765-9c7ff4f4e920"
      },
      "execution_count": 408,
      "outputs": [
        {
          "output_type": "display_data",
          "data": {
            "image/png": "[encoded data removed]",
            "text/plain": [
              "<Figure size 1080x360 with 1 Axes>"
            ]
          },
          "metadata": {
            "needs_background": "light"
          }
        }
      ]
    },
    {
      "cell_type": "markdown",
      "source": [
        "Não parece haver correlação entre as duas."
      ],
      "metadata": {
        "id": "eYsj0d0heOI0"
      }
    },
    {
      "cell_type": "code",
      "source": [
        "plt.figure(figsize=(15,5))\n",
        "sns.countplot(y = 'enrolled_university', hue=\"target\", data = treino,\n",
        "              palette={0: \"#98caa3\", 1: \"#c84557\"}) \n",
        "plt.xlabel(\"Experiência total\")\n",
        "plt.ylabel(\"Contagem\")\n",
        "plt.title(\"Experiência total\", fontsize=18)\n",
        "plt.legend(labels=['Não quer mudar de emprego', 'Quer mudar de emprego'])\n",
        "plt.show()"
      ],
      "metadata": {
        "colab": {
          "base_uri": "https://localhost:8080/",
          "height": 354
        },
        "id": "of1JwshGer88",
        "outputId": "e3114497-bea8-42e0-a52c-0ce93570a9d5"
      },
      "execution_count": 409,
      "outputs": [
        {
          "output_type": "display_data",
          "data": {
            "image/png": "[encoded data removed]",
            "text/plain": [
              "<Figure size 1080x360 with 1 Axes>"
            ]
          },
          "metadata": {
            "needs_background": "light"
          }
        }
      ]
    },
    {
      "cell_type": "markdown",
      "source": [
        "Pessoas que estão em curso integral na faculdade são as que parecem mais querer mudar de emprego."
      ],
      "metadata": {
        "id": "g7iPIQmpexzQ"
      }
    },
    {
      "cell_type": "markdown",
      "source": [
        "#Modelo de Predição"
      ],
      "metadata": {
        "id": "Q8OCslO2foYh"
      }
    },
    {
      "cell_type": "code",
      "source": [
        "from sklearn.neighbors import KNeighborsClassifier\n",
        "from sklearn.model_selection import train_test_split\n",
        "from sklearn.model_selection import cross_val_score\n",
        "from sklearn.metrics import plot_confusion_matrix\n",
        "from sklearn.metrics import classification_report"
      ],
      "metadata": {
        "id": "UF60iclMgkFS"
      },
      "execution_count": 410,
      "outputs": []
    },
    {
      "cell_type": "markdown",
      "source": [
        "Para a criação dos nossos modelos de predição, deixaremos apenas a coluna \"training_hours\" de lado."
      ],
      "metadata": {
        "id": "fiuW_sDY8whB"
      }
    },
    {
      "cell_type": "code",
      "source": [
        "# não quero alterar o dataset de teste, então vou salvá-lo primeiro\n",
        "teste = candidatos[candidatos[\"target\"].isnull()]\n",
        "\n",
        "#criando dummies em nossos dados de treino para os nossos modelos de predição\n",
        "candidatos.drop('training_hours', axis=1, inplace=True)\n",
        "candidatos = pd.get_dummies(candidatos, drop_first=True)\n",
        "treino = candidatos[candidatos[\"target\"].isnull() == False]"
      ],
      "metadata": {
        "id": "zMOqtrVQm1B3"
      },
      "execution_count": 411,
      "outputs": []
    },
    {
      "cell_type": "code",
      "source": [
        "# separando os dados que vamos utilizar em treino e teste novamente\n",
        "X = treino.drop(\"target\", axis=1).values\n",
        "y = treino[\"target\"].values\n",
        "\n",
        "X_train, X_test, y_train, y_test = train_test_split(X, y, test_size = 0.2, random_state=42, stratify=y)"
      ],
      "metadata": {
        "id": "_DXSG69_hXHe"
      },
      "execution_count": 412,
      "outputs": []
    },
    {
      "cell_type": "markdown",
      "source": [
        "##K Nearest Neighbors"
      ],
      "metadata": {
        "id": "O6OZrflnsgDp"
      }
    },
    {
      "cell_type": "markdown",
      "source": [
        "Para o nosso K Nearest Neighbors, vamos testar diferentes valores de k e escolher aquele com média de cross_val_score mais alta"
      ],
      "metadata": {
        "id": "V8Ulx3jK9PWt"
      }
    },
    {
      "cell_type": "code",
      "source": [
        "neighbors = range(15, 35, 5)\n",
        "scores = np.empty(len(neighbors))\n",
        "test_accuracy = np.empty(len(neighbors))\n",
        "\n",
        "for i, k in enumerate(neighbors):\n",
        "    knn = KNeighborsClassifier(n_neighbors=k)\n",
        "    score = np.mean(cross_val_score(knn, X_train, y_train, cv = 10))\n",
        "    scores[i] = score\n",
        "\n",
        "# Plotando\n",
        "plt.title('k-NN: variando o k')\n",
        "plt.plot(neighbors, scores, label = 'acurácia')\n",
        "plt.legend()\n",
        "plt.xlabel('valor do K')\n",
        "plt.show()\n"
      ],
      "metadata": {
        "colab": {
          "base_uri": "https://localhost:8080/",
          "height": 294
        },
        "id": "yk5Uf1BuomFe",
        "outputId": "8fd1d139-2be2-4609-dbfd-4f56481d1c27"
      },
      "execution_count": 413,
      "outputs": [
        {
          "output_type": "display_data",
          "data": {
            "image/png": "[encoded data removed]",
            "text/plain": [
              "<Figure size 432x288 with 1 Axes>"
            ]
          },
          "metadata": {
            "needs_background": "light"
          }
        }
      ]
    },
    {
      "cell_type": "markdown",
      "source": [
        "Fica claro no gráfico que o melhor valor de k a ser escolhido é de 25"
      ],
      "metadata": {
        "id": "o2tUYAv8-FVf"
      }
    },
    {
      "cell_type": "code",
      "source": [
        "knn = KNeighborsClassifier(n_neighbors=25)\n",
        "knn.fit(X_train, y_train)\n",
        "y_pred = knn.predict(X_test)\n",
        "\n",
        "print(knn.score(X_test, y_test))"
      ],
      "metadata": {
        "colab": {
          "base_uri": "https://localhost:8080/"
        },
        "id": "g6tRhyWVh1FM",
        "outputId": "29e48c7a-3eb2-4d55-f507-c254322081c8"
      },
      "execution_count": 414,
      "outputs": [
        {
          "output_type": "stream",
          "name": "stdout",
          "text": [
            "0.7876407436501702\n"
          ]
        }
      ]
    },
    {
      "cell_type": "markdown",
      "source": [
        "Obtivemos uma acurácia de 0.788, um número razoável. Contudo, devemos sempre checar também as outras métricas:"
      ],
      "metadata": {
        "id": "CxAAWwNQ-V5w"
      }
    },
    {
      "cell_type": "code",
      "source": [
        "# Matriz de confusão\n",
        "plot_confusion_matrix(knn, X_test, y_test, values_format='d', cmap = \"Blues\")\n",
        "plt.title('Knn')\n",
        "plt.show()"
      ],
      "metadata": {
        "colab": {
          "base_uri": "https://localhost:8080/",
          "height": 352
        },
        "id": "W1bXBQqKsGSc",
        "outputId": "935b6344-daa1-4704-8e06-ebb4f4614747"
      },
      "execution_count": 415,
      "outputs": [
        {
          "output_type": "stream",
          "name": "stderr",
          "text": [
            "/usr/local/lib/python3.7/dist-packages/sklearn/utils/deprecation.py:87: FutureWarning: Function plot_confusion_matrix is deprecated; Function `plot_confusion_matrix` is deprecated in 1.0 and will be removed in 1.2. Use one of the class methods: ConfusionMatrixDisplay.from_predictions or ConfusionMatrixDisplay.from_estimator.\n",
            "  warnings.warn(msg, category=FutureWarning)\n"
          ]
        },
        {
          "output_type": "display_data",
          "data": {
            "image/png": "[encoded data removed]",
            "text/plain": [
              "<Figure size 432x288 with 2 Axes>"
            ]
          },
          "metadata": {
            "needs_background": "light"
          }
        }
      ]
    },
    {
      "cell_type": "code",
      "source": [
        "# Classification report\n",
        "print(classification_report(y_test, y_pred, zero_division=0))"
      ],
      "metadata": {
        "colab": {
          "base_uri": "https://localhost:8080/"
        },
        "id": "3YgYo6a-tgLw",
        "outputId": "91979535-a85f-4394-b328-7c0b664c4cea"
      },
      "execution_count": 416,
      "outputs": [
        {
          "output_type": "stream",
          "name": "stdout",
          "text": [
            "              precision    recall  f1-score   support\n",
            "\n",
            "         0.0       0.84      0.88      0.86      2868\n",
            "         1.0       0.59      0.50      0.54       951\n",
            "\n",
            "    accuracy                           0.79      3819\n",
            "   macro avg       0.71      0.69      0.70      3819\n",
            "weighted avg       0.78      0.79      0.78      3819\n",
            "\n"
          ]
        }
      ]
    },
    {
      "cell_type": "markdown",
      "source": [
        "##Logistic Regression"
      ],
      "metadata": {
        "id": "y7oawEXNt2TT"
      }
    },
    {
      "cell_type": "code",
      "source": [
        "from sklearn.linear_model import LogisticRegression"
      ],
      "metadata": {
        "id": "3b8qM1OCt9b1"
      },
      "execution_count": 417,
      "outputs": []
    },
    {
      "cell_type": "code",
      "source": [
        "logreg = LogisticRegression()\n",
        "logreg.fit(X_train, y_train)\n",
        "\n",
        "y_pred = logreg.predict(X_test)\n",
        "\n",
        "print(logreg.score(X_test, y_test))"
      ],
      "metadata": {
        "colab": {
          "base_uri": "https://localhost:8080/"
        },
        "id": "vRSzkhGouIOx",
        "outputId": "47878887-510c-440d-9cdf-8c811e6c707b"
      },
      "execution_count": 418,
      "outputs": [
        {
          "output_type": "stream",
          "name": "stdout",
          "text": [
            "0.7818800733176224\n"
          ]
        },
        {
          "output_type": "stream",
          "name": "stderr",
          "text": [
            "/usr/local/lib/python3.7/dist-packages/sklearn/linear_model/_logistic.py:818: ConvergenceWarning: lbfgs failed to converge (status=1):\n",
            "STOP: TOTAL NO. of ITERATIONS REACHED LIMIT.\n",
            "\n",
            "Increase the number of iterations (max_iter) or scale the data as shown in:\n",
            "    https://scikit-learn.org/stable/modules/preprocessing.html\n",
            "Please also refer to the documentation for alternative solver options:\n",
            "    https://scikit-learn.org/stable/modules/linear_model.html#logistic-regression\n",
            "  extra_warning_msg=_LOGISTIC_SOLVER_CONVERGENCE_MSG,\n"
          ]
        }
      ]
    },
    {
      "cell_type": "markdown",
      "source": [
        "A acurácia desse modelo foi pior do que a última, mas devemos ainda checar as outras métricas:"
      ],
      "metadata": {
        "id": "iUN0MrQe_IDU"
      }
    },
    {
      "cell_type": "code",
      "source": [
        "# Matriz de confusão\n",
        "plot_confusion_matrix(logreg, X_test, y_test, values_format='d', cmap = \"Blues\")\n",
        "plt.title('Logistic Regression')\n",
        "plt.show()"
      ],
      "metadata": {
        "colab": {
          "base_uri": "https://localhost:8080/",
          "height": 352
        },
        "id": "N9DEl7j4waZC",
        "outputId": "1649e89d-bbd7-4c42-add4-8a6daa83c6ca"
      },
      "execution_count": 419,
      "outputs": [
        {
          "output_type": "stream",
          "name": "stderr",
          "text": [
            "/usr/local/lib/python3.7/dist-packages/sklearn/utils/deprecation.py:87: FutureWarning: Function plot_confusion_matrix is deprecated; Function `plot_confusion_matrix` is deprecated in 1.0 and will be removed in 1.2. Use one of the class methods: ConfusionMatrixDisplay.from_predictions or ConfusionMatrixDisplay.from_estimator.\n",
            "  warnings.warn(msg, category=FutureWarning)\n"
          ]
        },
        {
          "output_type": "display_data",
          "data": {
            "image/png": "[encoded data removed]",
            "text/plain": [
              "<Figure size 432x288 with 2 Axes>"
            ]
          },
          "metadata": {
            "needs_background": "light"
          }
        }
      ]
    },
    {
      "cell_type": "markdown",
      "source": [
        "Podemos parceber que apesar da acurácia semelhante com o modelo de knn, a regressão linear obteve mais falsos negativos e menos falsos positivos! Essa análise é crucial dependendo da predição que estamos fazendo. No caso que estamos estudando contudo, essa diferença não é tão relevante."
      ],
      "metadata": {
        "id": "SuOggN0g_RGv"
      }
    },
    {
      "cell_type": "code",
      "source": [
        "# Classification report\n",
        "print(classification_report(y_test, y_pred, zero_division=0))"
      ],
      "metadata": {
        "colab": {
          "base_uri": "https://localhost:8080/"
        },
        "id": "y5kOLefTwqEa",
        "outputId": "9b59828d-4238-4523-c6f7-068c98d5c4e0"
      },
      "execution_count": 420,
      "outputs": [
        {
          "output_type": "stream",
          "name": "stdout",
          "text": [
            "              precision    recall  f1-score   support\n",
            "\n",
            "         0.0       0.81      0.92      0.86      2868\n",
            "         1.0       0.60      0.36      0.45       951\n",
            "\n",
            "    accuracy                           0.78      3819\n",
            "   macro avg       0.71      0.64      0.66      3819\n",
            "weighted avg       0.76      0.78      0.76      3819\n",
            "\n"
          ]
        }
      ]
    },
    {
      "cell_type": "markdown",
      "source": [
        "##Random Forest Classifier"
      ],
      "metadata": {
        "id": "inomf6O8w5d_"
      }
    },
    {
      "cell_type": "code",
      "source": [
        "from sklearn.ensemble import RandomForestClassifier "
      ],
      "metadata": {
        "id": "tag4qnUrw_Q-"
      },
      "execution_count": 421,
      "outputs": []
    },
    {
      "cell_type": "code",
      "source": [
        "rf = RandomForestClassifier(\n",
        "    max_depth=35,\n",
        "    n_estimators=250,\n",
        "    min_samples_split=50,\n",
        "    criterion='entropy',\n",
        "    oob_score=True,\n",
        "    random_state=42\n",
        ")\n",
        "\n",
        "rf.fit(X_train, y_train)\n",
        "y_pred = rf.predict(X_test)\n",
        "\n",
        "print(rf.score(X_test, y_test))"
      ],
      "metadata": {
        "colab": {
          "base_uri": "https://localhost:8080/"
        },
        "id": "BDGOJ6ncvKMC",
        "outputId": "fcbac461-f1cc-4f9b-ee1e-7d96a3c4eda5"
      },
      "execution_count": 422,
      "outputs": [
        {
          "output_type": "stream",
          "name": "stdout",
          "text": [
            "0.7941869599371564\n"
          ]
        }
      ]
    },
    {
      "cell_type": "markdown",
      "source": [
        "Essa foi a maior acurácia até o momento, mas devemos ainda assim olhar as outras métricas:"
      ],
      "metadata": {
        "id": "6_OQxxOY_4ed"
      }
    },
    {
      "cell_type": "code",
      "source": [
        "# Matriz de confusão\n",
        "plot_confusion_matrix(rf, X_test, y_test, values_format='d', cmap = \"Blues\")\n",
        "plt.title('Random Forest')\n",
        "plt.show()"
      ],
      "metadata": {
        "colab": {
          "base_uri": "https://localhost:8080/",
          "height": 352
        },
        "id": "CcvxFe07xzvt",
        "outputId": "d812f6bf-c4f9-4cba-e7f9-74131134b683"
      },
      "execution_count": 423,
      "outputs": [
        {
          "output_type": "stream",
          "name": "stderr",
          "text": [
            "/usr/local/lib/python3.7/dist-packages/sklearn/utils/deprecation.py:87: FutureWarning: Function plot_confusion_matrix is deprecated; Function `plot_confusion_matrix` is deprecated in 1.0 and will be removed in 1.2. Use one of the class methods: ConfusionMatrixDisplay.from_predictions or ConfusionMatrixDisplay.from_estimator.\n",
            "  warnings.warn(msg, category=FutureWarning)\n"
          ]
        },
        {
          "output_type": "display_data",
          "data": {
            "image/png": "[encoded data removed]",
            "text/plain": [
              "<Figure size 432x288 with 2 Axes>"
            ]
          },
          "metadata": {
            "needs_background": "light"
          }
        }
      ]
    },
    {
      "cell_type": "markdown",
      "source": [
        "Tanto nos números de falsos positivos quanto no de falsos negativos, esse modelo superou todos os outros!"
      ],
      "metadata": {
        "id": "bUENg3gHAGxN"
      }
    },
    {
      "cell_type": "code",
      "source": [
        "# Classification report\n",
        "print(classification_report(y_test, y_pred, zero_division=0))"
      ],
      "metadata": {
        "colab": {
          "base_uri": "https://localhost:8080/"
        },
        "id": "uhhKhaN8x_nX",
        "outputId": "046a82ff-7c0f-4653-8772-0e1fda5b95d2"
      },
      "execution_count": 424,
      "outputs": [
        {
          "output_type": "stream",
          "name": "stdout",
          "text": [
            "              precision    recall  f1-score   support\n",
            "\n",
            "         0.0       0.85      0.89      0.87      2868\n",
            "         1.0       0.60      0.52      0.56       951\n",
            "\n",
            "    accuracy                           0.79      3819\n",
            "   macro avg       0.72      0.70      0.71      3819\n",
            "weighted avg       0.79      0.79      0.79      3819\n",
            "\n"
          ]
        }
      ]
    },
    {
      "cell_type": "markdown",
      "metadata": {
        "id": "fHN_EHv65Lu7"
      },
      "source": [
        "#Conclusão"
      ]
    },
    {
      "cell_type": "markdown",
      "metadata": {
        "id": "z1-PijLM5R2T"
      },
      "source": [
        "Os três modelos testados acima tiveram uma performance muito parecida e suas métricas foram equilibradas entre falsos-positivos e falsos-negativos. O modelo escolhido, entretanto, foi o Random Forest Classifier, que teve suas métricas minimamente melhores. \n",
        "A seguir iremos finalmente utilizar os dados de teste fornecidos, que não possuem a coluna \"target\", para prever se um determinado candidato deseja mudar seu emprego."
      ]
    },
    {
      "cell_type": "code",
      "source": [
        "teste_final = candidatos[candidatos[\"target\"].isnull()]\n",
        "X_final = teste_final.drop(\"target\", axis=1).values\n",
        "\n",
        "teste[\"target\"] = rf.predict(X_final)"
      ],
      "metadata": {
        "id": "Tn2_Zyufzs95"
      },
      "execution_count": 425,
      "outputs": []
    },
    {
      "cell_type": "code",
      "source": [
        "teste.head(10)"
      ],
      "metadata": {
        "colab": {
          "base_uri": "https://localhost:8080/",
          "height": 426
        },
        "id": "IfoItjXx1jAu",
        "outputId": "32c1b4f2-1659-4240-8776-5c77b022fef8"
      },
      "execution_count": 426,
      "outputs": [
        {
          "output_type": "execute_result",
          "data": {
            "text/html": [
              "\n",
              "  <div id=\"df-5c2467c2-bfb1-4ecf-a6e0-c8015c696d1d\">\n",
              "    <div class=\"colab-df-container\">\n",
              "      <div>\n",
              "<style scoped>\n",
              "    .dataframe tbody tr th:only-of-type {\n",
              "        vertical-align: middle;\n",
              "    }\n",
              "\n",
              "    .dataframe tbody tr th {\n",
              "        vertical-align: top;\n",
              "    }\n",
              "\n",
              "    .dataframe thead th {\n",
              "        text-align: right;\n",
              "    }\n",
              "</style>\n",
              "<table border=\"1\" class=\"dataframe\">\n",
              "  <thead>\n",
              "    <tr style=\"text-align: right;\">\n",
              "      <th></th>\n",
              "      <th>city</th>\n",
              "      <th>city_development_index</th>\n",
              "      <th>gender</th>\n",
              "      <th>relevent_experience</th>\n",
              "      <th>enrolled_university</th>\n",
              "      <th>education_level</th>\n",
              "      <th>major_discipline</th>\n",
              "      <th>experience</th>\n",
              "      <th>company_size</th>\n",
              "      <th>company_type</th>\n",
              "      <th>last_new_job</th>\n",
              "      <th>training_hours</th>\n",
              "      <th>target</th>\n",
              "    </tr>\n",
              "  </thead>\n",
              "  <tbody>\n",
              "    <tr>\n",
              "      <th>19158</th>\n",
              "      <td>city_41</td>\n",
              "      <td>0.827</td>\n",
              "      <td>Male</td>\n",
              "      <td>Has relevent experience</td>\n",
              "      <td>Full time course</td>\n",
              "      <td>Graduate</td>\n",
              "      <td>STEM</td>\n",
              "      <td>9</td>\n",
              "      <td>&lt;10</td>\n",
              "      <td>Other</td>\n",
              "      <td>1</td>\n",
              "      <td>21</td>\n",
              "      <td>0.0</td>\n",
              "    </tr>\n",
              "    <tr>\n",
              "      <th>19159</th>\n",
              "      <td>city_103</td>\n",
              "      <td>0.920</td>\n",
              "      <td>Female</td>\n",
              "      <td>Has relevent experience</td>\n",
              "      <td>no_enrollment</td>\n",
              "      <td>Graduate</td>\n",
              "      <td>STEM</td>\n",
              "      <td>5</td>\n",
              "      <td>50-99</td>\n",
              "      <td>Pvt Ltd</td>\n",
              "      <td>1</td>\n",
              "      <td>98</td>\n",
              "      <td>0.0</td>\n",
              "    </tr>\n",
              "    <tr>\n",
              "      <th>19160</th>\n",
              "      <td>city_21</td>\n",
              "      <td>0.624</td>\n",
              "      <td>Male</td>\n",
              "      <td>No relevent experience</td>\n",
              "      <td>no_enrollment</td>\n",
              "      <td>High School</td>\n",
              "      <td>STEM</td>\n",
              "      <td>&lt;1</td>\n",
              "      <td>50-99</td>\n",
              "      <td>Pvt Ltd</td>\n",
              "      <td>never</td>\n",
              "      <td>15</td>\n",
              "      <td>0.0</td>\n",
              "    </tr>\n",
              "    <tr>\n",
              "      <th>19161</th>\n",
              "      <td>city_13</td>\n",
              "      <td>0.827</td>\n",
              "      <td>Male</td>\n",
              "      <td>Has relevent experience</td>\n",
              "      <td>no_enrollment</td>\n",
              "      <td>Masters</td>\n",
              "      <td>STEM</td>\n",
              "      <td>11</td>\n",
              "      <td>10-49</td>\n",
              "      <td>Pvt Ltd</td>\n",
              "      <td>1</td>\n",
              "      <td>39</td>\n",
              "      <td>0.0</td>\n",
              "    </tr>\n",
              "    <tr>\n",
              "      <th>19162</th>\n",
              "      <td>city_23</td>\n",
              "      <td>0.899</td>\n",
              "      <td>Male</td>\n",
              "      <td>No relevent experience</td>\n",
              "      <td>Part time course</td>\n",
              "      <td>Masters</td>\n",
              "      <td>STEM</td>\n",
              "      <td>10</td>\n",
              "      <td>50-99</td>\n",
              "      <td>Other</td>\n",
              "      <td>2</td>\n",
              "      <td>12</td>\n",
              "      <td>0.0</td>\n",
              "    </tr>\n",
              "    <tr>\n",
              "      <th>19163</th>\n",
              "      <td>city_21</td>\n",
              "      <td>0.624</td>\n",
              "      <td>Other</td>\n",
              "      <td>Has relevent experience</td>\n",
              "      <td>no_enrollment</td>\n",
              "      <td>Graduate</td>\n",
              "      <td>STEM</td>\n",
              "      <td>&lt;1</td>\n",
              "      <td>100-500</td>\n",
              "      <td>Pvt Ltd</td>\n",
              "      <td>1</td>\n",
              "      <td>11</td>\n",
              "      <td>1.0</td>\n",
              "    </tr>\n",
              "    <tr>\n",
              "      <th>19164</th>\n",
              "      <td>city_160</td>\n",
              "      <td>0.920</td>\n",
              "      <td>Female</td>\n",
              "      <td>Has relevent experience</td>\n",
              "      <td>no_enrollment</td>\n",
              "      <td>Graduate</td>\n",
              "      <td>STEM</td>\n",
              "      <td>&gt;20</td>\n",
              "      <td>50-99</td>\n",
              "      <td>Other</td>\n",
              "      <td>&gt;4</td>\n",
              "      <td>81</td>\n",
              "      <td>1.0</td>\n",
              "    </tr>\n",
              "    <tr>\n",
              "      <th>19165</th>\n",
              "      <td>city_173</td>\n",
              "      <td>0.878</td>\n",
              "      <td>Male</td>\n",
              "      <td>Has relevent experience</td>\n",
              "      <td>no_enrollment</td>\n",
              "      <td>Graduate</td>\n",
              "      <td>STEM</td>\n",
              "      <td>14</td>\n",
              "      <td>50-99</td>\n",
              "      <td>Other</td>\n",
              "      <td>4</td>\n",
              "      <td>2</td>\n",
              "      <td>0.0</td>\n",
              "    </tr>\n",
              "    <tr>\n",
              "      <th>19166</th>\n",
              "      <td>city_21</td>\n",
              "      <td>0.624</td>\n",
              "      <td>Male</td>\n",
              "      <td>Has relevent experience</td>\n",
              "      <td>Full time course</td>\n",
              "      <td>Graduate</td>\n",
              "      <td>STEM</td>\n",
              "      <td>3</td>\n",
              "      <td>50-99</td>\n",
              "      <td>Funded Startup</td>\n",
              "      <td>1</td>\n",
              "      <td>4</td>\n",
              "      <td>1.0</td>\n",
              "    </tr>\n",
              "    <tr>\n",
              "      <th>19167</th>\n",
              "      <td>city_103</td>\n",
              "      <td>0.920</td>\n",
              "      <td>Male</td>\n",
              "      <td>Has relevent experience</td>\n",
              "      <td>no_enrollment</td>\n",
              "      <td>Masters</td>\n",
              "      <td>Other</td>\n",
              "      <td>&gt;20</td>\n",
              "      <td>50-99</td>\n",
              "      <td>Other</td>\n",
              "      <td>&gt;4</td>\n",
              "      <td>196</td>\n",
              "      <td>1.0</td>\n",
              "    </tr>\n",
              "  </tbody>\n",
              "</table>\n",
              "</div>\n",
              "      <button class=\"colab-df-convert\" onclick=\"convertToInteractive('df-5c2467c2-bfb1-4ecf-a6e0-c8015c696d1d')\"\n",
              "              title=\"Convert this dataframe to an interactive table.\"\n",
              "              style=\"display:none;\">\n",
              "        \n",
              "  <svg xmlns=\"http://www.w3.org/2000/svg\" height=\"24px\"viewBox=\"0 0 24 24\"\n",
              "       width=\"24px\">\n",
              "    <path d=\"M0 0h24v24H0V0z\" fill=\"none\"/>\n",
              "    <path d=\"M18.56 5.44l.94 2.06.94-2.06 2.06-.94-2.06-.94-.94-2.06-.94 2.06-2.06.94zm-11 1L8.5 8.5l.94-2.06 2.06-.94-2.06-.94L8.5 2.5l-.94 2.06-2.06.94zm10 10l.94 2.06.94-2.06 2.06-.94-2.06-.94-.94-2.06-.94 2.06-2.06.94z\"/><path d=\"M17.41 7.96l-1.37-1.37c-.4-.4-.92-.59-1.43-.59-.52 0-1.04.2-1.43.59L10.3 9.45l-7.72 7.72c-.78.78-.78 2.05 0 2.83L4 21.41c.39.39.9.59 1.41.59.51 0 1.02-.2 1.41-.59l7.78-7.78 2.81-2.81c.8-.78.8-2.07 0-2.86zM5.41 20L4 18.59l7.72-7.72 1.47 1.35L5.41 20z\"/>\n",
              "  </svg>\n",
              "      </button>\n",
              "      \n",
              "  <style>\n",
              "    .colab-df-container {\n",
              "      display:flex;\n",
              "      flex-wrap:wrap;\n",
              "      gap: 12px;\n",
              "    }\n",
              "\n",
              "    .colab-df-convert {\n",
              "      background-color: #E8F0FE;\n",
              "      border: none;\n",
              "      border-radius: 50%;\n",
              "      cursor: pointer;\n",
              "      display: none;\n",
              "      fill: #1967D2;\n",
              "      height: 32px;\n",
              "      padding: 0 0 0 0;\n",
              "      width: 32px;\n",
              "    }\n",
              "\n",
              "    .colab-df-convert:hover {\n",
              "      background-color: #E2EBFA;\n",
              "      box-shadow: 0px 1px 2px rgba(60, 64, 67, 0.3), 0px 1px 3px 1px rgba(60, 64, 67, 0.15);\n",
              "      fill: #174EA6;\n",
              "    }\n",
              "\n",
              "    [theme=dark] .colab-df-convert {\n",
              "      background-color: #3B4455;\n",
              "      fill: #D2E3FC;\n",
              "    }\n",
              "\n",
              "    [theme=dark] .colab-df-convert:hover {\n",
              "      background-color: #434B5C;\n",
              "      box-shadow: 0px 1px 3px 1px rgba(0, 0, 0, 0.15);\n",
              "      filter: drop-shadow(0px 1px 2px rgba(0, 0, 0, 0.3));\n",
              "      fill: #FFFFFF;\n",
              "    }\n",
              "  </style>\n",
              "\n",
              "      <script>\n",
              "        const buttonEl =\n",
              "          document.querySelector('#df-5c2467c2-bfb1-4ecf-a6e0-c8015c696d1d button.colab-df-convert');\n",
              "        buttonEl.style.display =\n",
              "          google.colab.kernel.accessAllowed ? 'block' : 'none';\n",
              "\n",
              "        async function convertToInteractive(key) {\n",
              "          const element = document.querySelector('#df-5c2467c2-bfb1-4ecf-a6e0-c8015c696d1d');\n",
              "          const dataTable =\n",
              "            await google.colab.kernel.invokeFunction('convertToInteractive',\n",
              "                                                     [key], {});\n",
              "          if (!dataTable) return;\n",
              "\n",
              "          const docLinkHtml = 'Like what you see? Visit the ' +\n",
              "            '<a target=\"_blank\" href=https://colab.research.google.com/notebooks/data_table.ipynb>data table notebook</a>'\n",
              "            + ' to learn more about interactive tables.';\n",
              "          element.innerHTML = '';\n",
              "          dataTable['output_type'] = 'display_data';\n",
              "          await google.colab.output.renderOutput(dataTable, element);\n",
              "          const docLink = document.createElement('div');\n",
              "          docLink.innerHTML = docLinkHtml;\n",
              "          element.appendChild(docLink);\n",
              "        }\n",
              "      </script>\n",
              "    </div>\n",
              "  </div>\n",
              "  "
            ],
            "text/plain": [
              "           city  city_development_index  ... training_hours target\n",
              "19158   city_41                   0.827  ...             21    0.0\n",
              "19159  city_103                   0.920  ...             98    0.0\n",
              "19160   city_21                   0.624  ...             15    0.0\n",
              "19161   city_13                   0.827  ...             39    0.0\n",
              "19162   city_23                   0.899  ...             12    0.0\n",
              "19163   city_21                   0.624  ...             11    1.0\n",
              "19164  city_160                   0.920  ...             81    1.0\n",
              "19165  city_173                   0.878  ...              2    0.0\n",
              "19166   city_21                   0.624  ...              4    1.0\n",
              "19167  city_103                   0.920  ...            196    1.0\n",
              "\n",
              "[10 rows x 13 columns]"
            ]
          },
          "metadata": {},
          "execution_count": 426
        }
      ]
    },
    {
      "cell_type": "markdown",
      "source": [
        "E assim esse projeto é finalizado, com a coluna \"target\" devidamente preenchida com os valores preditos! "
      ],
      "metadata": {
        "id": "HgF6z04X2CUm"
      }
    },
    {
      "cell_type": "markdown",
      "source": [
        "Podemos concluir que o modelo escolhido, apesar de funcionar, poderia melhorar em diversos quesitos. Para isso, seria necessário pre-processar os dados mais rigorosamente, normalizá-los e até mesmo retirar outras colunas antes de treinar o modelo. Por fim, existem maneiras de testar mais fortemente os hiperparâmetros para encontrar os seus valores ideais! "
      ],
      "metadata": {
        "id": "rqkNGsd_AukF"
      }
    }
  ]
}